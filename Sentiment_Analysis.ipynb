{
  "cells": [
    {
      "cell_type": "markdown",
      "metadata": {
        "id": "view-in-github",
        "colab_type": "text"
      },
      "source": [
        "<a href=\"https://colab.research.google.com/github/AnilKumar-06/SentimentAnalysis/blob/main/Sentiment_Analysis.ipynb\" target=\"_parent\"><img src=\"https://colab.research.google.com/assets/colab-badge.svg\" alt=\"Open In Colab\"/></a>"
      ]
    },
    {
      "cell_type": "code",
      "execution_count": 1,
      "metadata": {
        "colab": {
          "base_uri": "https://localhost:8080/"
        },
        "id": "ekyrPdhV0NME",
        "outputId": "28d823a0-b3cd-4e39-ee50-b0ff22553a2c"
      },
      "outputs": [
        {
          "output_type": "stream",
          "name": "stdout",
          "text": [
            "Mounted at /content/drive\n"
          ]
        }
      ],
      "source": [
        "from google.colab import drive\n",
        "drive.mount('/content/drive')"
      ],
      "id": "ekyrPdhV0NME"
    },
    {
      "cell_type": "code",
      "execution_count": 2,
      "metadata": {
        "colab": {
          "base_uri": "https://localhost:8080/"
        },
        "id": "f6c17e95",
        "outputId": "635f1fbe-e872-4102-abcd-b8f84fd8ead5"
      },
      "outputs": [
        {
          "output_type": "stream",
          "name": "stdout",
          "text": [
            "Requirement already satisfied: gensim in /usr/local/lib/python3.10/dist-packages (4.3.2)\n",
            "Requirement already satisfied: numpy>=1.18.5 in /usr/local/lib/python3.10/dist-packages (from gensim) (1.23.5)\n",
            "Requirement already satisfied: scipy>=1.7.0 in /usr/local/lib/python3.10/dist-packages (from gensim) (1.11.3)\n",
            "Requirement already satisfied: smart-open>=1.8.1 in /usr/local/lib/python3.10/dist-packages (from gensim) (6.4.0)\n",
            "Requirement already satisfied: tqdm in /usr/local/lib/python3.10/dist-packages (4.66.1)\n"
          ]
        }
      ],
      "source": [
        "!pip install gensim\n",
        "!pip install tqdm"
      ],
      "id": "f6c17e95"
    },
    {
      "cell_type": "code",
      "execution_count": 3,
      "metadata": {
        "colab": {
          "base_uri": "https://localhost:8080/"
        },
        "id": "18bb8ecc",
        "outputId": "e9053f7a-1717-4c00-d3f7-5fb2a69f5431"
      },
      "outputs": [
        {
          "output_type": "stream",
          "name": "stdout",
          "text": [
            "Requirement already satisfied: xgboost in /usr/local/lib/python3.10/dist-packages (2.0.0)\n",
            "Requirement already satisfied: numpy in /usr/local/lib/python3.10/dist-packages (from xgboost) (1.23.5)\n",
            "Requirement already satisfied: scipy in /usr/local/lib/python3.10/dist-packages (from xgboost) (1.11.3)\n"
          ]
        }
      ],
      "source": [
        "!pip install xgboost"
      ],
      "id": "18bb8ecc"
    },
    {
      "cell_type": "code",
      "execution_count": 4,
      "metadata": {
        "id": "8c40d926"
      },
      "outputs": [],
      "source": [
        "import sqlite3\n",
        "import numpy as np\n",
        "import pandas as pd\n",
        "import nltk\n",
        "import string\n",
        "import matplotlib.pyplot as plt\n",
        "import seaborn as sns\n",
        "from sklearn.feature_extraction.text import TfidfTransformer, TfidfVectorizer, CountVectorizer\n",
        "from sklearn.metrics import roc_curve, auc\n",
        "from sklearn import metrics\n",
        "from nltk.stem.porter import PorterStemmer\n",
        "import re\n",
        "from nltk.corpus import stopwords\n",
        "from nltk.stem.wordnet import WordNetLemmatizer\n",
        "from gensim.models import Word2Vec\n",
        "from gensim.models import KeyedVectors\n",
        "import pickle\n",
        "from tqdm import tqdm\n",
        "import os\n",
        "from sklearn.metrics import confusion_matrix, accuracy_score"
      ],
      "id": "8c40d926"
    },
    {
      "cell_type": "markdown",
      "source": [
        "## Utility function to save and load file"
      ],
      "metadata": {
        "id": "ns6vdPTokSx3"
      },
      "id": "ns6vdPTokSx3"
    },
    {
      "cell_type": "code",
      "execution_count": 5,
      "metadata": {
        "id": "e43f5721"
      },
      "outputs": [],
      "source": [
        "def savetofile(obj, fname):\n",
        "    pickle.dump(obj, open(fname+'.p', 'wb'))\n",
        "\n",
        "def openfromfile(fname):\n",
        "    tmp = pickle.load(open(fname+'.p', 'rb'))\n",
        "    return tmp"
      ],
      "id": "e43f5721"
    },
    {
      "cell_type": "markdown",
      "source": [
        "### Creating DataBase Connection to fetch the data"
      ],
      "metadata": {
        "id": "ZgQb5VkOkZ9U"
      },
      "id": "ZgQb5VkOkZ9U"
    },
    {
      "cell_type": "code",
      "execution_count": 6,
      "metadata": {
        "id": "cdea33a8"
      },
      "outputs": [],
      "source": [
        "con = sqlite3.connect('/content/drive/MyDrive/Sentiment_Analysis/database.sqlite')\n",
        "data = pd.read_sql_query(\"\"\"SELECT *FROM Reviews WHERE Score != 3\"\"\", con)"
      ],
      "id": "cdea33a8"
    },
    {
      "cell_type": "code",
      "execution_count": 7,
      "metadata": {
        "id": "295e2034"
      },
      "outputs": [],
      "source": [
        "#Filtering out the review with rating 3\n",
        "def partition(x):\n",
        "    if x < 3:\n",
        "        return 0\n",
        "    else:\n",
        "        return 1\n",
        "data['Score'] = data['Score'].apply(partition)"
      ],
      "id": "295e2034"
    },
    {
      "cell_type": "code",
      "execution_count": 8,
      "metadata": {
        "id": "72715772"
      },
      "outputs": [],
      "source": [
        "data['Score'] = data['Score'].replace(1,'Positive')\n",
        "data['Score'] = data['Score'].replace(0,'Negative')"
      ],
      "id": "72715772"
    },
    {
      "cell_type": "code",
      "execution_count": 9,
      "metadata": {
        "id": "6428ef82",
        "scrolled": true,
        "colab": {
          "base_uri": "https://localhost:8080/",
          "height": 559
        },
        "outputId": "2438b144-6cdf-4197-b2f2-afc9777067ec"
      },
      "outputs": [
        {
          "output_type": "execute_result",
          "data": {
            "text/plain": [
              "   Id   ProductId          UserId                      ProfileName  \\\n",
              "0   1  B001E4KFG0  A3SGXH7AUHU8GW                       delmartian   \n",
              "1   2  B00813GRG4  A1D87F6ZCVE5NK                           dll pa   \n",
              "2   3  B000LQOCH0   ABXLMWJIXXAIN  Natalia Corres \"Natalia Corres\"   \n",
              "3   4  B000UA0QIQ  A395BORC6FGVXV                             Karl   \n",
              "\n",
              "   HelpfulnessNumerator  HelpfulnessDenominator     Score        Time  \\\n",
              "0                     1                       1  Positive  1303862400   \n",
              "1                     0                       0  Negative  1346976000   \n",
              "2                     1                       1  Positive  1219017600   \n",
              "3                     3                       3  Negative  1307923200   \n",
              "\n",
              "                 Summary                                               Text  \n",
              "0  Good Quality Dog Food  I have bought several of the Vitality canned d...  \n",
              "1      Not as Advertised  Product arrived labeled as Jumbo Salted Peanut...  \n",
              "2  \"Delight\" says it all  This is a confection that has been around a fe...  \n",
              "3         Cough Medicine  If you are looking for the secret ingredient i...  "
            ],
            "text/html": [
              "\n",
              "  <div id=\"df-2c9eae52-048a-4076-9b8e-bc1a04448dd4\" class=\"colab-df-container\">\n",
              "    <div>\n",
              "<style scoped>\n",
              "    .dataframe tbody tr th:only-of-type {\n",
              "        vertical-align: middle;\n",
              "    }\n",
              "\n",
              "    .dataframe tbody tr th {\n",
              "        vertical-align: top;\n",
              "    }\n",
              "\n",
              "    .dataframe thead th {\n",
              "        text-align: right;\n",
              "    }\n",
              "</style>\n",
              "<table border=\"1\" class=\"dataframe\">\n",
              "  <thead>\n",
              "    <tr style=\"text-align: right;\">\n",
              "      <th></th>\n",
              "      <th>Id</th>\n",
              "      <th>ProductId</th>\n",
              "      <th>UserId</th>\n",
              "      <th>ProfileName</th>\n",
              "      <th>HelpfulnessNumerator</th>\n",
              "      <th>HelpfulnessDenominator</th>\n",
              "      <th>Score</th>\n",
              "      <th>Time</th>\n",
              "      <th>Summary</th>\n",
              "      <th>Text</th>\n",
              "    </tr>\n",
              "  </thead>\n",
              "  <tbody>\n",
              "    <tr>\n",
              "      <th>0</th>\n",
              "      <td>1</td>\n",
              "      <td>B001E4KFG0</td>\n",
              "      <td>A3SGXH7AUHU8GW</td>\n",
              "      <td>delmartian</td>\n",
              "      <td>1</td>\n",
              "      <td>1</td>\n",
              "      <td>Positive</td>\n",
              "      <td>1303862400</td>\n",
              "      <td>Good Quality Dog Food</td>\n",
              "      <td>I have bought several of the Vitality canned d...</td>\n",
              "    </tr>\n",
              "    <tr>\n",
              "      <th>1</th>\n",
              "      <td>2</td>\n",
              "      <td>B00813GRG4</td>\n",
              "      <td>A1D87F6ZCVE5NK</td>\n",
              "      <td>dll pa</td>\n",
              "      <td>0</td>\n",
              "      <td>0</td>\n",
              "      <td>Negative</td>\n",
              "      <td>1346976000</td>\n",
              "      <td>Not as Advertised</td>\n",
              "      <td>Product arrived labeled as Jumbo Salted Peanut...</td>\n",
              "    </tr>\n",
              "    <tr>\n",
              "      <th>2</th>\n",
              "      <td>3</td>\n",
              "      <td>B000LQOCH0</td>\n",
              "      <td>ABXLMWJIXXAIN</td>\n",
              "      <td>Natalia Corres \"Natalia Corres\"</td>\n",
              "      <td>1</td>\n",
              "      <td>1</td>\n",
              "      <td>Positive</td>\n",
              "      <td>1219017600</td>\n",
              "      <td>\"Delight\" says it all</td>\n",
              "      <td>This is a confection that has been around a fe...</td>\n",
              "    </tr>\n",
              "    <tr>\n",
              "      <th>3</th>\n",
              "      <td>4</td>\n",
              "      <td>B000UA0QIQ</td>\n",
              "      <td>A395BORC6FGVXV</td>\n",
              "      <td>Karl</td>\n",
              "      <td>3</td>\n",
              "      <td>3</td>\n",
              "      <td>Negative</td>\n",
              "      <td>1307923200</td>\n",
              "      <td>Cough Medicine</td>\n",
              "      <td>If you are looking for the secret ingredient i...</td>\n",
              "    </tr>\n",
              "  </tbody>\n",
              "</table>\n",
              "</div>\n",
              "    <div class=\"colab-df-buttons\">\n",
              "\n",
              "  <div class=\"colab-df-container\">\n",
              "    <button class=\"colab-df-convert\" onclick=\"convertToInteractive('df-2c9eae52-048a-4076-9b8e-bc1a04448dd4')\"\n",
              "            title=\"Convert this dataframe to an interactive table.\"\n",
              "            style=\"display:none;\">\n",
              "\n",
              "  <svg xmlns=\"http://www.w3.org/2000/svg\" height=\"24px\" viewBox=\"0 -960 960 960\">\n",
              "    <path d=\"M120-120v-720h720v720H120Zm60-500h600v-160H180v160Zm220 220h160v-160H400v160Zm0 220h160v-160H400v160ZM180-400h160v-160H180v160Zm440 0h160v-160H620v160ZM180-180h160v-160H180v160Zm440 0h160v-160H620v160Z\"/>\n",
              "  </svg>\n",
              "    </button>\n",
              "\n",
              "  <style>\n",
              "    .colab-df-container {\n",
              "      display:flex;\n",
              "      gap: 12px;\n",
              "    }\n",
              "\n",
              "    .colab-df-convert {\n",
              "      background-color: #E8F0FE;\n",
              "      border: none;\n",
              "      border-radius: 50%;\n",
              "      cursor: pointer;\n",
              "      display: none;\n",
              "      fill: #1967D2;\n",
              "      height: 32px;\n",
              "      padding: 0 0 0 0;\n",
              "      width: 32px;\n",
              "    }\n",
              "\n",
              "    .colab-df-convert:hover {\n",
              "      background-color: #E2EBFA;\n",
              "      box-shadow: 0px 1px 2px rgba(60, 64, 67, 0.3), 0px 1px 3px 1px rgba(60, 64, 67, 0.15);\n",
              "      fill: #174EA6;\n",
              "    }\n",
              "\n",
              "    .colab-df-buttons div {\n",
              "      margin-bottom: 4px;\n",
              "    }\n",
              "\n",
              "    [theme=dark] .colab-df-convert {\n",
              "      background-color: #3B4455;\n",
              "      fill: #D2E3FC;\n",
              "    }\n",
              "\n",
              "    [theme=dark] .colab-df-convert:hover {\n",
              "      background-color: #434B5C;\n",
              "      box-shadow: 0px 1px 3px 1px rgba(0, 0, 0, 0.15);\n",
              "      filter: drop-shadow(0px 1px 2px rgba(0, 0, 0, 0.3));\n",
              "      fill: #FFFFFF;\n",
              "    }\n",
              "  </style>\n",
              "\n",
              "    <script>\n",
              "      const buttonEl =\n",
              "        document.querySelector('#df-2c9eae52-048a-4076-9b8e-bc1a04448dd4 button.colab-df-convert');\n",
              "      buttonEl.style.display =\n",
              "        google.colab.kernel.accessAllowed ? 'block' : 'none';\n",
              "\n",
              "      async function convertToInteractive(key) {\n",
              "        const element = document.querySelector('#df-2c9eae52-048a-4076-9b8e-bc1a04448dd4');\n",
              "        const dataTable =\n",
              "          await google.colab.kernel.invokeFunction('convertToInteractive',\n",
              "                                                    [key], {});\n",
              "        if (!dataTable) return;\n",
              "\n",
              "        const docLinkHtml = 'Like what you see? Visit the ' +\n",
              "          '<a target=\"_blank\" href=https://colab.research.google.com/notebooks/data_table.ipynb>data table notebook</a>'\n",
              "          + ' to learn more about interactive tables.';\n",
              "        element.innerHTML = '';\n",
              "        dataTable['output_type'] = 'display_data';\n",
              "        await google.colab.output.renderOutput(dataTable, element);\n",
              "        const docLink = document.createElement('div');\n",
              "        docLink.innerHTML = docLinkHtml;\n",
              "        element.appendChild(docLink);\n",
              "      }\n",
              "    </script>\n",
              "  </div>\n",
              "\n",
              "\n",
              "<div id=\"df-38441147-dfdf-4166-8745-2139efa3a2f7\">\n",
              "  <button class=\"colab-df-quickchart\" onclick=\"quickchart('df-38441147-dfdf-4166-8745-2139efa3a2f7')\"\n",
              "            title=\"Suggest charts.\"\n",
              "            style=\"display:none;\">\n",
              "\n",
              "<svg xmlns=\"http://www.w3.org/2000/svg\" height=\"24px\"viewBox=\"0 0 24 24\"\n",
              "     width=\"24px\">\n",
              "    <g>\n",
              "        <path d=\"M19 3H5c-1.1 0-2 .9-2 2v14c0 1.1.9 2 2 2h14c1.1 0 2-.9 2-2V5c0-1.1-.9-2-2-2zM9 17H7v-7h2v7zm4 0h-2V7h2v10zm4 0h-2v-4h2v4z\"/>\n",
              "    </g>\n",
              "</svg>\n",
              "  </button>\n",
              "\n",
              "<style>\n",
              "  .colab-df-quickchart {\n",
              "      --bg-color: #E8F0FE;\n",
              "      --fill-color: #1967D2;\n",
              "      --hover-bg-color: #E2EBFA;\n",
              "      --hover-fill-color: #174EA6;\n",
              "      --disabled-fill-color: #AAA;\n",
              "      --disabled-bg-color: #DDD;\n",
              "  }\n",
              "\n",
              "  [theme=dark] .colab-df-quickchart {\n",
              "      --bg-color: #3B4455;\n",
              "      --fill-color: #D2E3FC;\n",
              "      --hover-bg-color: #434B5C;\n",
              "      --hover-fill-color: #FFFFFF;\n",
              "      --disabled-bg-color: #3B4455;\n",
              "      --disabled-fill-color: #666;\n",
              "  }\n",
              "\n",
              "  .colab-df-quickchart {\n",
              "    background-color: var(--bg-color);\n",
              "    border: none;\n",
              "    border-radius: 50%;\n",
              "    cursor: pointer;\n",
              "    display: none;\n",
              "    fill: var(--fill-color);\n",
              "    height: 32px;\n",
              "    padding: 0;\n",
              "    width: 32px;\n",
              "  }\n",
              "\n",
              "  .colab-df-quickchart:hover {\n",
              "    background-color: var(--hover-bg-color);\n",
              "    box-shadow: 0 1px 2px rgba(60, 64, 67, 0.3), 0 1px 3px 1px rgba(60, 64, 67, 0.15);\n",
              "    fill: var(--button-hover-fill-color);\n",
              "  }\n",
              "\n",
              "  .colab-df-quickchart-complete:disabled,\n",
              "  .colab-df-quickchart-complete:disabled:hover {\n",
              "    background-color: var(--disabled-bg-color);\n",
              "    fill: var(--disabled-fill-color);\n",
              "    box-shadow: none;\n",
              "  }\n",
              "\n",
              "  .colab-df-spinner {\n",
              "    border: 2px solid var(--fill-color);\n",
              "    border-color: transparent;\n",
              "    border-bottom-color: var(--fill-color);\n",
              "    animation:\n",
              "      spin 1s steps(1) infinite;\n",
              "  }\n",
              "\n",
              "  @keyframes spin {\n",
              "    0% {\n",
              "      border-color: transparent;\n",
              "      border-bottom-color: var(--fill-color);\n",
              "      border-left-color: var(--fill-color);\n",
              "    }\n",
              "    20% {\n",
              "      border-color: transparent;\n",
              "      border-left-color: var(--fill-color);\n",
              "      border-top-color: var(--fill-color);\n",
              "    }\n",
              "    30% {\n",
              "      border-color: transparent;\n",
              "      border-left-color: var(--fill-color);\n",
              "      border-top-color: var(--fill-color);\n",
              "      border-right-color: var(--fill-color);\n",
              "    }\n",
              "    40% {\n",
              "      border-color: transparent;\n",
              "      border-right-color: var(--fill-color);\n",
              "      border-top-color: var(--fill-color);\n",
              "    }\n",
              "    60% {\n",
              "      border-color: transparent;\n",
              "      border-right-color: var(--fill-color);\n",
              "    }\n",
              "    80% {\n",
              "      border-color: transparent;\n",
              "      border-right-color: var(--fill-color);\n",
              "      border-bottom-color: var(--fill-color);\n",
              "    }\n",
              "    90% {\n",
              "      border-color: transparent;\n",
              "      border-bottom-color: var(--fill-color);\n",
              "    }\n",
              "  }\n",
              "</style>\n",
              "\n",
              "  <script>\n",
              "    async function quickchart(key) {\n",
              "      const quickchartButtonEl =\n",
              "        document.querySelector('#' + key + ' button');\n",
              "      quickchartButtonEl.disabled = true;  // To prevent multiple clicks.\n",
              "      quickchartButtonEl.classList.add('colab-df-spinner');\n",
              "      try {\n",
              "        const charts = await google.colab.kernel.invokeFunction(\n",
              "            'suggestCharts', [key], {});\n",
              "      } catch (error) {\n",
              "        console.error('Error during call to suggestCharts:', error);\n",
              "      }\n",
              "      quickchartButtonEl.classList.remove('colab-df-spinner');\n",
              "      quickchartButtonEl.classList.add('colab-df-quickchart-complete');\n",
              "    }\n",
              "    (() => {\n",
              "      let quickchartButtonEl =\n",
              "        document.querySelector('#df-38441147-dfdf-4166-8745-2139efa3a2f7 button');\n",
              "      quickchartButtonEl.style.display =\n",
              "        google.colab.kernel.accessAllowed ? 'block' : 'none';\n",
              "    })();\n",
              "  </script>\n",
              "</div>\n",
              "    </div>\n",
              "  </div>\n"
            ]
          },
          "metadata": {},
          "execution_count": 9
        }
      ],
      "source": [
        "\n",
        "data.head(4)"
      ],
      "id": "6428ef82"
    },
    {
      "cell_type": "code",
      "execution_count": 10,
      "metadata": {
        "colab": {
          "base_uri": "https://localhost:8080/"
        },
        "id": "ea8bfd40",
        "outputId": "43fd9020-1185-41e9-923a-6fc792088884"
      },
      "outputs": [
        {
          "output_type": "execute_result",
          "data": {
            "text/plain": [
              "(525814, 10)"
            ]
          },
          "metadata": {},
          "execution_count": 10
        }
      ],
      "source": [
        "data.shape"
      ],
      "id": "ea8bfd40"
    },
    {
      "cell_type": "code",
      "execution_count": 11,
      "metadata": {
        "colab": {
          "base_uri": "https://localhost:8080/"
        },
        "id": "175b7496",
        "outputId": "af47dbd7-e46d-41f6-fce8-108a0e5db834"
      },
      "outputs": [
        {
          "output_type": "execute_result",
          "data": {
            "text/plain": [
              "Positive    443777\n",
              "Negative     82037\n",
              "Name: Score, dtype: int64"
            ]
          },
          "metadata": {},
          "execution_count": 11
        }
      ],
      "source": [
        "data['Score'].value_counts()"
      ],
      "id": "175b7496"
    },
    {
      "cell_type": "markdown",
      "source": [
        "### Check and remove duplicates"
      ],
      "metadata": {
        "id": "2qRJ2I7xk3EG"
      },
      "id": "2qRJ2I7xk3EG"
    },
    {
      "cell_type": "code",
      "execution_count": 12,
      "metadata": {
        "colab": {
          "base_uri": "https://localhost:8080/"
        },
        "id": "d6ac4397",
        "outputId": "863ebf86-ad90-4013-f873-80189951ebd1"
      },
      "outputs": [
        {
          "output_type": "execute_result",
          "data": {
            "text/plain": [
              "False    364173\n",
              "True     161641\n",
              "dtype: int64"
            ]
          },
          "metadata": {},
          "execution_count": 12
        }
      ],
      "source": [
        "data.duplicated(subset={'UserId', 'ProfileName', 'Time', 'Text'}).value_counts()"
      ],
      "id": "d6ac4397"
    },
    {
      "cell_type": "code",
      "execution_count": 13,
      "metadata": {
        "id": "14369836"
      },
      "outputs": [],
      "source": [
        "data = data.drop_duplicates(subset = {'UserId', 'ProfileName', 'Time', 'Text'}, keep='first')"
      ],
      "id": "14369836"
    },
    {
      "cell_type": "code",
      "execution_count": 14,
      "metadata": {
        "colab": {
          "base_uri": "https://localhost:8080/"
        },
        "id": "4c3971a1",
        "outputId": "e4ade668-8be5-4684-c7cc-55516eff5213"
      },
      "outputs": [
        {
          "output_type": "execute_result",
          "data": {
            "text/plain": [
              "(364173, 10)"
            ]
          },
          "metadata": {},
          "execution_count": 14
        }
      ],
      "source": [
        "data.shape"
      ],
      "id": "4c3971a1"
    },
    {
      "cell_type": "code",
      "execution_count": 15,
      "metadata": {
        "id": "abf40b54"
      },
      "outputs": [],
      "source": [
        "data = data[data['HelpfulnessNumerator'] <= data['HelpfulnessDenominator']]"
      ],
      "id": "abf40b54"
    },
    {
      "cell_type": "code",
      "execution_count": 16,
      "metadata": {
        "colab": {
          "base_uri": "https://localhost:8080/"
        },
        "id": "c828a799",
        "outputId": "2f8870d7-2885-4aba-f475-cf71f5510e18"
      },
      "outputs": [
        {
          "output_type": "stream",
          "name": "stdout",
          "text": [
            "Data Size = 364171 Rows\n"
          ]
        }
      ],
      "source": [
        "print(\"Data Size = {} Rows\".format(data.shape[0]))"
      ],
      "id": "c828a799"
    },
    {
      "cell_type": "markdown",
      "metadata": {
        "id": "771bf41d"
      },
      "source": [
        "### Data Cleaning"
      ],
      "id": "771bf41d"
    },
    {
      "cell_type": "code",
      "execution_count": 17,
      "metadata": {
        "id": "bf943a1e"
      },
      "outputs": [],
      "source": [
        "def strip_punc(df):\n",
        "    ptrn = re.compile(r'[?|!|\\'|\"|#|.|,|)|(|\\|/|~|%|*]')\n",
        "    return ptrn.sub('', df)"
      ],
      "id": "bf943a1e"
    },
    {
      "cell_type": "code",
      "execution_count": 18,
      "metadata": {
        "colab": {
          "base_uri": "https://localhost:8080/",
          "height": 35
        },
        "id": "f20ee5cd",
        "outputId": "f171b19c-b698-4b21-be0c-d792bbbf38d3"
      },
      "outputs": [
        {
          "output_type": "execute_result",
          "data": {
            "text/plain": [
              "'fsd sdfsdfdsvv'"
            ],
            "application/vnd.google.colaboratory.intrinsic+json": {
              "type": "string"
            }
          },
          "metadata": {},
          "execution_count": 18
        }
      ],
      "source": [
        "strip_punc(\"fsd*?~,,,( sdfsdfdsvv)#\")"
      ],
      "id": "f20ee5cd"
    },
    {
      "cell_type": "code",
      "execution_count": 18,
      "metadata": {
        "id": "d8d45aa5"
      },
      "outputs": [],
      "source": [],
      "id": "d8d45aa5"
    },
    {
      "cell_type": "code",
      "execution_count": 19,
      "metadata": {
        "id": "2fb19685"
      },
      "outputs": [],
      "source": [
        "def strip_html(sent):\n",
        "    ptrn = re.compile('<.*?>')\n",
        "    return ptrn.sub('', sent)"
      ],
      "id": "2fb19685"
    },
    {
      "cell_type": "code",
      "execution_count": 20,
      "metadata": {
        "colab": {
          "base_uri": "https://localhost:8080/",
          "height": 35
        },
        "id": "1b97de56",
        "outputId": "98c811ab-e88c-481b-a642-03d444d03d7f"
      },
      "outputs": [
        {
          "output_type": "execute_result",
          "data": {
            "text/plain": [
              "'I Want This text!'"
            ],
            "application/vnd.google.colaboratory.intrinsic+json": {
              "type": "string"
            }
          },
          "metadata": {},
          "execution_count": 20
        }
      ],
      "source": [
        "strip_html('<a href=\"foo.com\" class=\"bar\">I Want This <b>text!</b></a><>')"
      ],
      "id": "1b97de56"
    },
    {
      "cell_type": "code",
      "execution_count": 20,
      "metadata": {
        "id": "e8fd005a"
      },
      "outputs": [],
      "source": [],
      "id": "e8fd005a"
    },
    {
      "cell_type": "code",
      "execution_count": 21,
      "metadata": {
        "colab": {
          "base_uri": "https://localhost:8080/"
        },
        "id": "f5130ec8",
        "outputId": "c5145541-d3b2-41fd-9995-369bad82d3aa"
      },
      "outputs": [
        {
          "output_type": "stream",
          "name": "stderr",
          "text": [
            "[nltk_data] Downloading package stopwords to /root/nltk_data...\n",
            "[nltk_data]   Unzipping corpora/stopwords.zip.\n"
          ]
        },
        {
          "output_type": "execute_result",
          "data": {
            "text/plain": [
              "True"
            ]
          },
          "metadata": {},
          "execution_count": 21
        }
      ],
      "source": [
        "nltk.download('stopwords')"
      ],
      "id": "f5130ec8"
    },
    {
      "cell_type": "code",
      "execution_count": 22,
      "metadata": {
        "colab": {
          "base_uri": "https://localhost:8080/"
        },
        "id": "fa6f6a83",
        "outputId": "be63903d-186f-483c-e232-3a8d3728fb2e",
        "scrolled": true
      },
      "outputs": [
        {
          "output_type": "stream",
          "name": "stdout",
          "text": [
            "['i', 'me', 'my', 'myself', 'we', 'our', 'ours', 'ourselves', 'you', \"you're\", \"you've\", \"you'll\", \"you'd\", 'your', 'yours', 'yourself', 'yourselves', 'he', 'him', 'his', 'himself', 'she', \"she's\", 'her', 'hers', 'herself', 'it', \"it's\", 'its', 'itself', 'they', 'them', 'their', 'theirs', 'themselves', 'what', 'which', 'who', 'whom', 'this', 'that', \"that'll\", 'these', 'those', 'am', 'is', 'are', 'was', 'were', 'be', 'been', 'being', 'have', 'has', 'had', 'having', 'do', 'does', 'did', 'doing', 'a', 'an', 'the', 'and', 'but', 'if', 'or', 'because', 'as', 'until', 'while', 'of', 'at', 'by', 'for', 'with', 'about', 'against', 'between', 'into', 'through', 'during', 'before', 'after', 'above', 'below', 'to', 'from', 'up', 'down', 'in', 'out', 'on', 'off', 'over', 'under', 'again', 'further', 'then', 'once', 'here', 'there', 'when', 'where', 'why', 'how', 'all', 'any', 'both', 'each', 'few', 'more', 'most', 'other', 'some', 'such', 'no', 'nor', 'not', 'only', 'own', 'same', 'so', 'than', 'too', 'very', 's', 't', 'can', 'will', 'just', 'don', \"don't\", 'should', \"should've\", 'now', 'd', 'll', 'm', 'o', 're', 've', 'y', 'ain', 'aren', \"aren't\", 'couldn', \"couldn't\", 'didn', \"didn't\", 'doesn', \"doesn't\", 'hadn', \"hadn't\", 'hasn', \"hasn't\", 'haven', \"haven't\", 'isn', \"isn't\", 'ma', 'mightn', \"mightn't\", 'mustn', \"mustn't\", 'needn', \"needn't\", 'shan', \"shan't\", 'shouldn', \"shouldn't\", 'wasn', \"wasn't\", 'weren', \"weren't\", 'won', \"won't\", 'wouldn', \"wouldn't\"]\n"
          ]
        }
      ],
      "source": [
        "stop = stopwords.words('english')\n",
        "#excluding some useful words from stop words list as we doing sentiment analysis\n",
        "excluding = ['against','not','don', \"don't\",'ain', 'aren', \"aren't\", 'couldn', \"couldn't\", 'didn', \"didn't\",\n",
        "             'doesn', \"doesn't\", 'hadn', \"hadn't\", 'hasn', \"hasn't\", 'haven', \"haven't\", 'isn', \"isn't\",\n",
        "             'mightn', \"mightn't\", 'mustn', \"mustn't\", 'needn', \"needn't\",'shouldn', \"shouldn't\", 'wasn',\n",
        "             \"wasn't\", 'weren', \"weren't\", 'won', \"won't\", 'wouldn', \"wouldn't\"]\n",
        "stop = [word for word in stop if stop not in excluding]\n",
        "print(stop)"
      ],
      "id": "fa6f6a83"
    },
    {
      "cell_type": "code",
      "execution_count": 23,
      "metadata": {
        "colab": {
          "base_uri": "https://localhost:8080/"
        },
        "id": "2cef5922",
        "outputId": "c099542f-ec71-444b-faa8-afd6d6d5a21a"
      },
      "outputs": [
        {
          "output_type": "stream",
          "name": "stdout",
          "text": [
            "Stem words of some of the  english word using SnowBall Stemmer\n",
            "Examples:\n",
            "\n",
            "tasti\n",
            "tast\n",
            "tastiest\n",
            "delici\n",
            "amaz\n"
          ]
        }
      ],
      "source": [
        "from nltk.stem import SnowballStemmer\n",
        "snow = SnowballStemmer('english')\n",
        "print(\"Stem words of some of the  english word using SnowBall Stemmer\\nExamples:\\n\")\n",
        "print(snow.stem('tasty'))\n",
        "print(snow.stem('tasteful'))\n",
        "print(snow.stem('tastiest'))\n",
        "print(snow.stem('delicious'))\n",
        "print(snow.stem('amazing'))"
      ],
      "id": "2cef5922"
    },
    {
      "cell_type": "code",
      "execution_count": 24,
      "metadata": {
        "id": "0641565a"
      },
      "outputs": [],
      "source": [
        "def text_cleaning(data):\n",
        "    i=0\n",
        "    str1 = ''\n",
        "    final_str = []\n",
        "    pos_rev = []\n",
        "    neg_rev = []\n",
        "    s = ''\n",
        "    for sent in data['Text']:\n",
        "        filtered_sent = []\n",
        "        #print(sent)\n",
        "        sent = strip_html(sent)\n",
        "        sent = strip_punc(sent)\n",
        "        #print(sent.split())\n",
        "        for word in sent.split():\n",
        "            #print('\\n')\n",
        "            if(word.isalpha() and (len(word)>2)):\n",
        "                if(word.lower() not in stop):\n",
        "                    s = snow.stem(word.lower())\n",
        "                    #print('stem word of {} is : {}'.format(word, s))\n",
        "                    filtered_sent.append(s)\n",
        "                    if((data['Score'].values)[i] == 'Positive'):\n",
        "                        pos_rev.append(s)\n",
        "                        #print('pos_rev')\n",
        "                    if((data['Score'].values)[i] == 'Negative'):\n",
        "                        neg_rev.append(s)\n",
        "                        #print('neg_rev')\n",
        "                else:\n",
        "                    #print('stop word = ', word)\n",
        "                    continue\n",
        "            else:\n",
        "                #print('Numerical value or single or just two character = ', word)\n",
        "                continue\n",
        "        str1 = \" \".join(filtered_sent)\n",
        "        final_str.append(str1)\n",
        "    #print(final_str)\n",
        "        i+=1\n",
        "    return final_str"
      ],
      "id": "0641565a"
    },
    {
      "cell_type": "code",
      "execution_count": 25,
      "metadata": {
        "id": "0c35a478"
      },
      "outputs": [],
      "source": [
        "data['Cleaned_text'] = text_cleaning(data)"
      ],
      "id": "0c35a478"
    },
    {
      "cell_type": "code",
      "execution_count": 26,
      "metadata": {
        "colab": {
          "base_uri": "https://localhost:8080/",
          "height": 695
        },
        "id": "b02a293d",
        "outputId": "53ee8dfc-ee28-4b1c-8278-3c8231eaef32"
      },
      "outputs": [
        {
          "output_type": "execute_result",
          "data": {
            "text/plain": [
              "   Id   ProductId          UserId                      ProfileName  \\\n",
              "0   1  B001E4KFG0  A3SGXH7AUHU8GW                       delmartian   \n",
              "1   2  B00813GRG4  A1D87F6ZCVE5NK                           dll pa   \n",
              "2   3  B000LQOCH0   ABXLMWJIXXAIN  Natalia Corres \"Natalia Corres\"   \n",
              "3   4  B000UA0QIQ  A395BORC6FGVXV                             Karl   \n",
              "4   5  B006K2ZZ7K  A1UQRSCLF8GW1T    Michael D. Bigham \"M. Wassir\"   \n",
              "\n",
              "   HelpfulnessNumerator  HelpfulnessDenominator     Score        Time  \\\n",
              "0                     1                       1  Positive  1303862400   \n",
              "1                     0                       0  Negative  1346976000   \n",
              "2                     1                       1  Positive  1219017600   \n",
              "3                     3                       3  Negative  1307923200   \n",
              "4                     0                       0  Positive  1350777600   \n",
              "\n",
              "                 Summary                                               Text  \\\n",
              "0  Good Quality Dog Food  I have bought several of the Vitality canned d...   \n",
              "1      Not as Advertised  Product arrived labeled as Jumbo Salted Peanut...   \n",
              "2  \"Delight\" says it all  This is a confection that has been around a fe...   \n",
              "3         Cough Medicine  If you are looking for the secret ingredient i...   \n",
              "4            Great taffy  Great taffy at a great price.  There was a wid...   \n",
              "\n",
              "                                        Cleaned_text  \n",
              "0  bought sever vital can dog food product found ...  \n",
              "1  product arriv label jumbo salt peanutsth peanu...  \n",
              "2  confect around centuri light pillowi citrus ge...  \n",
              "3  look secret ingredi robitussin believ found go...  \n",
              "4  great taffi great price wide assort yummi taff...  "
            ],
            "text/html": [
              "\n",
              "  <div id=\"df-f482ee17-e062-4e14-a9ba-71b486c52e22\" class=\"colab-df-container\">\n",
              "    <div>\n",
              "<style scoped>\n",
              "    .dataframe tbody tr th:only-of-type {\n",
              "        vertical-align: middle;\n",
              "    }\n",
              "\n",
              "    .dataframe tbody tr th {\n",
              "        vertical-align: top;\n",
              "    }\n",
              "\n",
              "    .dataframe thead th {\n",
              "        text-align: right;\n",
              "    }\n",
              "</style>\n",
              "<table border=\"1\" class=\"dataframe\">\n",
              "  <thead>\n",
              "    <tr style=\"text-align: right;\">\n",
              "      <th></th>\n",
              "      <th>Id</th>\n",
              "      <th>ProductId</th>\n",
              "      <th>UserId</th>\n",
              "      <th>ProfileName</th>\n",
              "      <th>HelpfulnessNumerator</th>\n",
              "      <th>HelpfulnessDenominator</th>\n",
              "      <th>Score</th>\n",
              "      <th>Time</th>\n",
              "      <th>Summary</th>\n",
              "      <th>Text</th>\n",
              "      <th>Cleaned_text</th>\n",
              "    </tr>\n",
              "  </thead>\n",
              "  <tbody>\n",
              "    <tr>\n",
              "      <th>0</th>\n",
              "      <td>1</td>\n",
              "      <td>B001E4KFG0</td>\n",
              "      <td>A3SGXH7AUHU8GW</td>\n",
              "      <td>delmartian</td>\n",
              "      <td>1</td>\n",
              "      <td>1</td>\n",
              "      <td>Positive</td>\n",
              "      <td>1303862400</td>\n",
              "      <td>Good Quality Dog Food</td>\n",
              "      <td>I have bought several of the Vitality canned d...</td>\n",
              "      <td>bought sever vital can dog food product found ...</td>\n",
              "    </tr>\n",
              "    <tr>\n",
              "      <th>1</th>\n",
              "      <td>2</td>\n",
              "      <td>B00813GRG4</td>\n",
              "      <td>A1D87F6ZCVE5NK</td>\n",
              "      <td>dll pa</td>\n",
              "      <td>0</td>\n",
              "      <td>0</td>\n",
              "      <td>Negative</td>\n",
              "      <td>1346976000</td>\n",
              "      <td>Not as Advertised</td>\n",
              "      <td>Product arrived labeled as Jumbo Salted Peanut...</td>\n",
              "      <td>product arriv label jumbo salt peanutsth peanu...</td>\n",
              "    </tr>\n",
              "    <tr>\n",
              "      <th>2</th>\n",
              "      <td>3</td>\n",
              "      <td>B000LQOCH0</td>\n",
              "      <td>ABXLMWJIXXAIN</td>\n",
              "      <td>Natalia Corres \"Natalia Corres\"</td>\n",
              "      <td>1</td>\n",
              "      <td>1</td>\n",
              "      <td>Positive</td>\n",
              "      <td>1219017600</td>\n",
              "      <td>\"Delight\" says it all</td>\n",
              "      <td>This is a confection that has been around a fe...</td>\n",
              "      <td>confect around centuri light pillowi citrus ge...</td>\n",
              "    </tr>\n",
              "    <tr>\n",
              "      <th>3</th>\n",
              "      <td>4</td>\n",
              "      <td>B000UA0QIQ</td>\n",
              "      <td>A395BORC6FGVXV</td>\n",
              "      <td>Karl</td>\n",
              "      <td>3</td>\n",
              "      <td>3</td>\n",
              "      <td>Negative</td>\n",
              "      <td>1307923200</td>\n",
              "      <td>Cough Medicine</td>\n",
              "      <td>If you are looking for the secret ingredient i...</td>\n",
              "      <td>look secret ingredi robitussin believ found go...</td>\n",
              "    </tr>\n",
              "    <tr>\n",
              "      <th>4</th>\n",
              "      <td>5</td>\n",
              "      <td>B006K2ZZ7K</td>\n",
              "      <td>A1UQRSCLF8GW1T</td>\n",
              "      <td>Michael D. Bigham \"M. Wassir\"</td>\n",
              "      <td>0</td>\n",
              "      <td>0</td>\n",
              "      <td>Positive</td>\n",
              "      <td>1350777600</td>\n",
              "      <td>Great taffy</td>\n",
              "      <td>Great taffy at a great price.  There was a wid...</td>\n",
              "      <td>great taffi great price wide assort yummi taff...</td>\n",
              "    </tr>\n",
              "  </tbody>\n",
              "</table>\n",
              "</div>\n",
              "    <div class=\"colab-df-buttons\">\n",
              "\n",
              "  <div class=\"colab-df-container\">\n",
              "    <button class=\"colab-df-convert\" onclick=\"convertToInteractive('df-f482ee17-e062-4e14-a9ba-71b486c52e22')\"\n",
              "            title=\"Convert this dataframe to an interactive table.\"\n",
              "            style=\"display:none;\">\n",
              "\n",
              "  <svg xmlns=\"http://www.w3.org/2000/svg\" height=\"24px\" viewBox=\"0 -960 960 960\">\n",
              "    <path d=\"M120-120v-720h720v720H120Zm60-500h600v-160H180v160Zm220 220h160v-160H400v160Zm0 220h160v-160H400v160ZM180-400h160v-160H180v160Zm440 0h160v-160H620v160ZM180-180h160v-160H180v160Zm440 0h160v-160H620v160Z\"/>\n",
              "  </svg>\n",
              "    </button>\n",
              "\n",
              "  <style>\n",
              "    .colab-df-container {\n",
              "      display:flex;\n",
              "      gap: 12px;\n",
              "    }\n",
              "\n",
              "    .colab-df-convert {\n",
              "      background-color: #E8F0FE;\n",
              "      border: none;\n",
              "      border-radius: 50%;\n",
              "      cursor: pointer;\n",
              "      display: none;\n",
              "      fill: #1967D2;\n",
              "      height: 32px;\n",
              "      padding: 0 0 0 0;\n",
              "      width: 32px;\n",
              "    }\n",
              "\n",
              "    .colab-df-convert:hover {\n",
              "      background-color: #E2EBFA;\n",
              "      box-shadow: 0px 1px 2px rgba(60, 64, 67, 0.3), 0px 1px 3px 1px rgba(60, 64, 67, 0.15);\n",
              "      fill: #174EA6;\n",
              "    }\n",
              "\n",
              "    .colab-df-buttons div {\n",
              "      margin-bottom: 4px;\n",
              "    }\n",
              "\n",
              "    [theme=dark] .colab-df-convert {\n",
              "      background-color: #3B4455;\n",
              "      fill: #D2E3FC;\n",
              "    }\n",
              "\n",
              "    [theme=dark] .colab-df-convert:hover {\n",
              "      background-color: #434B5C;\n",
              "      box-shadow: 0px 1px 3px 1px rgba(0, 0, 0, 0.15);\n",
              "      filter: drop-shadow(0px 1px 2px rgba(0, 0, 0, 0.3));\n",
              "      fill: #FFFFFF;\n",
              "    }\n",
              "  </style>\n",
              "\n",
              "    <script>\n",
              "      const buttonEl =\n",
              "        document.querySelector('#df-f482ee17-e062-4e14-a9ba-71b486c52e22 button.colab-df-convert');\n",
              "      buttonEl.style.display =\n",
              "        google.colab.kernel.accessAllowed ? 'block' : 'none';\n",
              "\n",
              "      async function convertToInteractive(key) {\n",
              "        const element = document.querySelector('#df-f482ee17-e062-4e14-a9ba-71b486c52e22');\n",
              "        const dataTable =\n",
              "          await google.colab.kernel.invokeFunction('convertToInteractive',\n",
              "                                                    [key], {});\n",
              "        if (!dataTable) return;\n",
              "\n",
              "        const docLinkHtml = 'Like what you see? Visit the ' +\n",
              "          '<a target=\"_blank\" href=https://colab.research.google.com/notebooks/data_table.ipynb>data table notebook</a>'\n",
              "          + ' to learn more about interactive tables.';\n",
              "        element.innerHTML = '';\n",
              "        dataTable['output_type'] = 'display_data';\n",
              "        await google.colab.output.renderOutput(dataTable, element);\n",
              "        const docLink = document.createElement('div');\n",
              "        docLink.innerHTML = docLinkHtml;\n",
              "        element.appendChild(docLink);\n",
              "      }\n",
              "    </script>\n",
              "  </div>\n",
              "\n",
              "\n",
              "<div id=\"df-c6a0c221-600e-4713-ae97-e1e09c7139ea\">\n",
              "  <button class=\"colab-df-quickchart\" onclick=\"quickchart('df-c6a0c221-600e-4713-ae97-e1e09c7139ea')\"\n",
              "            title=\"Suggest charts.\"\n",
              "            style=\"display:none;\">\n",
              "\n",
              "<svg xmlns=\"http://www.w3.org/2000/svg\" height=\"24px\"viewBox=\"0 0 24 24\"\n",
              "     width=\"24px\">\n",
              "    <g>\n",
              "        <path d=\"M19 3H5c-1.1 0-2 .9-2 2v14c0 1.1.9 2 2 2h14c1.1 0 2-.9 2-2V5c0-1.1-.9-2-2-2zM9 17H7v-7h2v7zm4 0h-2V7h2v10zm4 0h-2v-4h2v4z\"/>\n",
              "    </g>\n",
              "</svg>\n",
              "  </button>\n",
              "\n",
              "<style>\n",
              "  .colab-df-quickchart {\n",
              "      --bg-color: #E8F0FE;\n",
              "      --fill-color: #1967D2;\n",
              "      --hover-bg-color: #E2EBFA;\n",
              "      --hover-fill-color: #174EA6;\n",
              "      --disabled-fill-color: #AAA;\n",
              "      --disabled-bg-color: #DDD;\n",
              "  }\n",
              "\n",
              "  [theme=dark] .colab-df-quickchart {\n",
              "      --bg-color: #3B4455;\n",
              "      --fill-color: #D2E3FC;\n",
              "      --hover-bg-color: #434B5C;\n",
              "      --hover-fill-color: #FFFFFF;\n",
              "      --disabled-bg-color: #3B4455;\n",
              "      --disabled-fill-color: #666;\n",
              "  }\n",
              "\n",
              "  .colab-df-quickchart {\n",
              "    background-color: var(--bg-color);\n",
              "    border: none;\n",
              "    border-radius: 50%;\n",
              "    cursor: pointer;\n",
              "    display: none;\n",
              "    fill: var(--fill-color);\n",
              "    height: 32px;\n",
              "    padding: 0;\n",
              "    width: 32px;\n",
              "  }\n",
              "\n",
              "  .colab-df-quickchart:hover {\n",
              "    background-color: var(--hover-bg-color);\n",
              "    box-shadow: 0 1px 2px rgba(60, 64, 67, 0.3), 0 1px 3px 1px rgba(60, 64, 67, 0.15);\n",
              "    fill: var(--button-hover-fill-color);\n",
              "  }\n",
              "\n",
              "  .colab-df-quickchart-complete:disabled,\n",
              "  .colab-df-quickchart-complete:disabled:hover {\n",
              "    background-color: var(--disabled-bg-color);\n",
              "    fill: var(--disabled-fill-color);\n",
              "    box-shadow: none;\n",
              "  }\n",
              "\n",
              "  .colab-df-spinner {\n",
              "    border: 2px solid var(--fill-color);\n",
              "    border-color: transparent;\n",
              "    border-bottom-color: var(--fill-color);\n",
              "    animation:\n",
              "      spin 1s steps(1) infinite;\n",
              "  }\n",
              "\n",
              "  @keyframes spin {\n",
              "    0% {\n",
              "      border-color: transparent;\n",
              "      border-bottom-color: var(--fill-color);\n",
              "      border-left-color: var(--fill-color);\n",
              "    }\n",
              "    20% {\n",
              "      border-color: transparent;\n",
              "      border-left-color: var(--fill-color);\n",
              "      border-top-color: var(--fill-color);\n",
              "    }\n",
              "    30% {\n",
              "      border-color: transparent;\n",
              "      border-left-color: var(--fill-color);\n",
              "      border-top-color: var(--fill-color);\n",
              "      border-right-color: var(--fill-color);\n",
              "    }\n",
              "    40% {\n",
              "      border-color: transparent;\n",
              "      border-right-color: var(--fill-color);\n",
              "      border-top-color: var(--fill-color);\n",
              "    }\n",
              "    60% {\n",
              "      border-color: transparent;\n",
              "      border-right-color: var(--fill-color);\n",
              "    }\n",
              "    80% {\n",
              "      border-color: transparent;\n",
              "      border-right-color: var(--fill-color);\n",
              "      border-bottom-color: var(--fill-color);\n",
              "    }\n",
              "    90% {\n",
              "      border-color: transparent;\n",
              "      border-bottom-color: var(--fill-color);\n",
              "    }\n",
              "  }\n",
              "</style>\n",
              "\n",
              "  <script>\n",
              "    async function quickchart(key) {\n",
              "      const quickchartButtonEl =\n",
              "        document.querySelector('#' + key + ' button');\n",
              "      quickchartButtonEl.disabled = true;  // To prevent multiple clicks.\n",
              "      quickchartButtonEl.classList.add('colab-df-spinner');\n",
              "      try {\n",
              "        const charts = await google.colab.kernel.invokeFunction(\n",
              "            'suggestCharts', [key], {});\n",
              "      } catch (error) {\n",
              "        console.error('Error during call to suggestCharts:', error);\n",
              "      }\n",
              "      quickchartButtonEl.classList.remove('colab-df-spinner');\n",
              "      quickchartButtonEl.classList.add('colab-df-quickchart-complete');\n",
              "    }\n",
              "    (() => {\n",
              "      let quickchartButtonEl =\n",
              "        document.querySelector('#df-c6a0c221-600e-4713-ae97-e1e09c7139ea button');\n",
              "      quickchartButtonEl.style.display =\n",
              "        google.colab.kernel.accessAllowed ? 'block' : 'none';\n",
              "    })();\n",
              "  </script>\n",
              "</div>\n",
              "    </div>\n",
              "  </div>\n"
            ]
          },
          "metadata": {},
          "execution_count": 26
        }
      ],
      "source": [
        "data.head()"
      ],
      "id": "b02a293d"
    },
    {
      "cell_type": "code",
      "execution_count": 27,
      "metadata": {
        "colab": {
          "base_uri": "https://localhost:8080/"
        },
        "id": "0e09818d",
        "outputId": "5b98dead-2dd1-41b2-fd7f-48702e85f809"
      },
      "outputs": [
        {
          "output_type": "execute_result",
          "data": {
            "text/plain": [
              "(364171, 11)"
            ]
          },
          "metadata": {},
          "execution_count": 27
        }
      ],
      "source": [
        "data.shape"
      ],
      "id": "0e09818d"
    },
    {
      "cell_type": "code",
      "execution_count": 28,
      "metadata": {
        "id": "K56DNj-e4tGE"
      },
      "outputs": [],
      "source": [
        "x = data['Cleaned_text']\n",
        "y = data['Score']"
      ],
      "id": "K56DNj-e4tGE"
    },
    {
      "cell_type": "code",
      "execution_count": 29,
      "metadata": {
        "colab": {
          "base_uri": "https://localhost:8080/",
          "height": 206
        },
        "id": "9de0dffd",
        "outputId": "75ca8eb7-7bc7-4af5-9afd-00d90448151e"
      },
      "outputs": [
        {
          "output_type": "execute_result",
          "data": {
            "text/plain": [
              "      Score                                               Text\n",
              "0  Positive  bought sever vital can dog food product found ...\n",
              "1  Negative  product arriv label jumbo salt peanutsth peanu...\n",
              "2  Positive  confect around centuri light pillowi citrus ge...\n",
              "3  Negative  look secret ingredi robitussin believ found go...\n",
              "4  Positive  great taffi great price wide assort yummi taff..."
            ],
            "text/html": [
              "\n",
              "  <div id=\"df-f81e6706-04a5-4e63-9ec6-166a9158f49d\" class=\"colab-df-container\">\n",
              "    <div>\n",
              "<style scoped>\n",
              "    .dataframe tbody tr th:only-of-type {\n",
              "        vertical-align: middle;\n",
              "    }\n",
              "\n",
              "    .dataframe tbody tr th {\n",
              "        vertical-align: top;\n",
              "    }\n",
              "\n",
              "    .dataframe thead th {\n",
              "        text-align: right;\n",
              "    }\n",
              "</style>\n",
              "<table border=\"1\" class=\"dataframe\">\n",
              "  <thead>\n",
              "    <tr style=\"text-align: right;\">\n",
              "      <th></th>\n",
              "      <th>Score</th>\n",
              "      <th>Text</th>\n",
              "    </tr>\n",
              "  </thead>\n",
              "  <tbody>\n",
              "    <tr>\n",
              "      <th>0</th>\n",
              "      <td>Positive</td>\n",
              "      <td>bought sever vital can dog food product found ...</td>\n",
              "    </tr>\n",
              "    <tr>\n",
              "      <th>1</th>\n",
              "      <td>Negative</td>\n",
              "      <td>product arriv label jumbo salt peanutsth peanu...</td>\n",
              "    </tr>\n",
              "    <tr>\n",
              "      <th>2</th>\n",
              "      <td>Positive</td>\n",
              "      <td>confect around centuri light pillowi citrus ge...</td>\n",
              "    </tr>\n",
              "    <tr>\n",
              "      <th>3</th>\n",
              "      <td>Negative</td>\n",
              "      <td>look secret ingredi robitussin believ found go...</td>\n",
              "    </tr>\n",
              "    <tr>\n",
              "      <th>4</th>\n",
              "      <td>Positive</td>\n",
              "      <td>great taffi great price wide assort yummi taff...</td>\n",
              "    </tr>\n",
              "  </tbody>\n",
              "</table>\n",
              "</div>\n",
              "    <div class=\"colab-df-buttons\">\n",
              "\n",
              "  <div class=\"colab-df-container\">\n",
              "    <button class=\"colab-df-convert\" onclick=\"convertToInteractive('df-f81e6706-04a5-4e63-9ec6-166a9158f49d')\"\n",
              "            title=\"Convert this dataframe to an interactive table.\"\n",
              "            style=\"display:none;\">\n",
              "\n",
              "  <svg xmlns=\"http://www.w3.org/2000/svg\" height=\"24px\" viewBox=\"0 -960 960 960\">\n",
              "    <path d=\"M120-120v-720h720v720H120Zm60-500h600v-160H180v160Zm220 220h160v-160H400v160Zm0 220h160v-160H400v160ZM180-400h160v-160H180v160Zm440 0h160v-160H620v160ZM180-180h160v-160H180v160Zm440 0h160v-160H620v160Z\"/>\n",
              "  </svg>\n",
              "    </button>\n",
              "\n",
              "  <style>\n",
              "    .colab-df-container {\n",
              "      display:flex;\n",
              "      gap: 12px;\n",
              "    }\n",
              "\n",
              "    .colab-df-convert {\n",
              "      background-color: #E8F0FE;\n",
              "      border: none;\n",
              "      border-radius: 50%;\n",
              "      cursor: pointer;\n",
              "      display: none;\n",
              "      fill: #1967D2;\n",
              "      height: 32px;\n",
              "      padding: 0 0 0 0;\n",
              "      width: 32px;\n",
              "    }\n",
              "\n",
              "    .colab-df-convert:hover {\n",
              "      background-color: #E2EBFA;\n",
              "      box-shadow: 0px 1px 2px rgba(60, 64, 67, 0.3), 0px 1px 3px 1px rgba(60, 64, 67, 0.15);\n",
              "      fill: #174EA6;\n",
              "    }\n",
              "\n",
              "    .colab-df-buttons div {\n",
              "      margin-bottom: 4px;\n",
              "    }\n",
              "\n",
              "    [theme=dark] .colab-df-convert {\n",
              "      background-color: #3B4455;\n",
              "      fill: #D2E3FC;\n",
              "    }\n",
              "\n",
              "    [theme=dark] .colab-df-convert:hover {\n",
              "      background-color: #434B5C;\n",
              "      box-shadow: 0px 1px 3px 1px rgba(0, 0, 0, 0.15);\n",
              "      filter: drop-shadow(0px 1px 2px rgba(0, 0, 0, 0.3));\n",
              "      fill: #FFFFFF;\n",
              "    }\n",
              "  </style>\n",
              "\n",
              "    <script>\n",
              "      const buttonEl =\n",
              "        document.querySelector('#df-f81e6706-04a5-4e63-9ec6-166a9158f49d button.colab-df-convert');\n",
              "      buttonEl.style.display =\n",
              "        google.colab.kernel.accessAllowed ? 'block' : 'none';\n",
              "\n",
              "      async function convertToInteractive(key) {\n",
              "        const element = document.querySelector('#df-f81e6706-04a5-4e63-9ec6-166a9158f49d');\n",
              "        const dataTable =\n",
              "          await google.colab.kernel.invokeFunction('convertToInteractive',\n",
              "                                                    [key], {});\n",
              "        if (!dataTable) return;\n",
              "\n",
              "        const docLinkHtml = 'Like what you see? Visit the ' +\n",
              "          '<a target=\"_blank\" href=https://colab.research.google.com/notebooks/data_table.ipynb>data table notebook</a>'\n",
              "          + ' to learn more about interactive tables.';\n",
              "        element.innerHTML = '';\n",
              "        dataTable['output_type'] = 'display_data';\n",
              "        await google.colab.output.renderOutput(dataTable, element);\n",
              "        const docLink = document.createElement('div');\n",
              "        docLink.innerHTML = docLinkHtml;\n",
              "        element.appendChild(docLink);\n",
              "      }\n",
              "    </script>\n",
              "  </div>\n",
              "\n",
              "\n",
              "<div id=\"df-f8ecbcad-eadd-449b-bd16-dadae4915d08\">\n",
              "  <button class=\"colab-df-quickchart\" onclick=\"quickchart('df-f8ecbcad-eadd-449b-bd16-dadae4915d08')\"\n",
              "            title=\"Suggest charts.\"\n",
              "            style=\"display:none;\">\n",
              "\n",
              "<svg xmlns=\"http://www.w3.org/2000/svg\" height=\"24px\"viewBox=\"0 0 24 24\"\n",
              "     width=\"24px\">\n",
              "    <g>\n",
              "        <path d=\"M19 3H5c-1.1 0-2 .9-2 2v14c0 1.1.9 2 2 2h14c1.1 0 2-.9 2-2V5c0-1.1-.9-2-2-2zM9 17H7v-7h2v7zm4 0h-2V7h2v10zm4 0h-2v-4h2v4z\"/>\n",
              "    </g>\n",
              "</svg>\n",
              "  </button>\n",
              "\n",
              "<style>\n",
              "  .colab-df-quickchart {\n",
              "      --bg-color: #E8F0FE;\n",
              "      --fill-color: #1967D2;\n",
              "      --hover-bg-color: #E2EBFA;\n",
              "      --hover-fill-color: #174EA6;\n",
              "      --disabled-fill-color: #AAA;\n",
              "      --disabled-bg-color: #DDD;\n",
              "  }\n",
              "\n",
              "  [theme=dark] .colab-df-quickchart {\n",
              "      --bg-color: #3B4455;\n",
              "      --fill-color: #D2E3FC;\n",
              "      --hover-bg-color: #434B5C;\n",
              "      --hover-fill-color: #FFFFFF;\n",
              "      --disabled-bg-color: #3B4455;\n",
              "      --disabled-fill-color: #666;\n",
              "  }\n",
              "\n",
              "  .colab-df-quickchart {\n",
              "    background-color: var(--bg-color);\n",
              "    border: none;\n",
              "    border-radius: 50%;\n",
              "    cursor: pointer;\n",
              "    display: none;\n",
              "    fill: var(--fill-color);\n",
              "    height: 32px;\n",
              "    padding: 0;\n",
              "    width: 32px;\n",
              "  }\n",
              "\n",
              "  .colab-df-quickchart:hover {\n",
              "    background-color: var(--hover-bg-color);\n",
              "    box-shadow: 0 1px 2px rgba(60, 64, 67, 0.3), 0 1px 3px 1px rgba(60, 64, 67, 0.15);\n",
              "    fill: var(--button-hover-fill-color);\n",
              "  }\n",
              "\n",
              "  .colab-df-quickchart-complete:disabled,\n",
              "  .colab-df-quickchart-complete:disabled:hover {\n",
              "    background-color: var(--disabled-bg-color);\n",
              "    fill: var(--disabled-fill-color);\n",
              "    box-shadow: none;\n",
              "  }\n",
              "\n",
              "  .colab-df-spinner {\n",
              "    border: 2px solid var(--fill-color);\n",
              "    border-color: transparent;\n",
              "    border-bottom-color: var(--fill-color);\n",
              "    animation:\n",
              "      spin 1s steps(1) infinite;\n",
              "  }\n",
              "\n",
              "  @keyframes spin {\n",
              "    0% {\n",
              "      border-color: transparent;\n",
              "      border-bottom-color: var(--fill-color);\n",
              "      border-left-color: var(--fill-color);\n",
              "    }\n",
              "    20% {\n",
              "      border-color: transparent;\n",
              "      border-left-color: var(--fill-color);\n",
              "      border-top-color: var(--fill-color);\n",
              "    }\n",
              "    30% {\n",
              "      border-color: transparent;\n",
              "      border-left-color: var(--fill-color);\n",
              "      border-top-color: var(--fill-color);\n",
              "      border-right-color: var(--fill-color);\n",
              "    }\n",
              "    40% {\n",
              "      border-color: transparent;\n",
              "      border-right-color: var(--fill-color);\n",
              "      border-top-color: var(--fill-color);\n",
              "    }\n",
              "    60% {\n",
              "      border-color: transparent;\n",
              "      border-right-color: var(--fill-color);\n",
              "    }\n",
              "    80% {\n",
              "      border-color: transparent;\n",
              "      border-right-color: var(--fill-color);\n",
              "      border-bottom-color: var(--fill-color);\n",
              "    }\n",
              "    90% {\n",
              "      border-color: transparent;\n",
              "      border-bottom-color: var(--fill-color);\n",
              "    }\n",
              "  }\n",
              "</style>\n",
              "\n",
              "  <script>\n",
              "    async function quickchart(key) {\n",
              "      const quickchartButtonEl =\n",
              "        document.querySelector('#' + key + ' button');\n",
              "      quickchartButtonEl.disabled = true;  // To prevent multiple clicks.\n",
              "      quickchartButtonEl.classList.add('colab-df-spinner');\n",
              "      try {\n",
              "        const charts = await google.colab.kernel.invokeFunction(\n",
              "            'suggestCharts', [key], {});\n",
              "      } catch (error) {\n",
              "        console.error('Error during call to suggestCharts:', error);\n",
              "      }\n",
              "      quickchartButtonEl.classList.remove('colab-df-spinner');\n",
              "      quickchartButtonEl.classList.add('colab-df-quickchart-complete');\n",
              "    }\n",
              "    (() => {\n",
              "      let quickchartButtonEl =\n",
              "        document.querySelector('#df-f8ecbcad-eadd-449b-bd16-dadae4915d08 button');\n",
              "      quickchartButtonEl.style.display =\n",
              "        google.colab.kernel.accessAllowed ? 'block' : 'none';\n",
              "    })();\n",
              "  </script>\n",
              "</div>\n",
              "    </div>\n",
              "  </div>\n"
            ]
          },
          "metadata": {},
          "execution_count": 29
        }
      ],
      "source": [
        "eda_on_score = pd.DataFrame({'Score':y, 'Text':x})\n",
        "eda_on_score.head()"
      ],
      "id": "9de0dffd"
    },
    {
      "cell_type": "code",
      "execution_count": 30,
      "metadata": {
        "colab": {
          "base_uri": "https://localhost:8080/"
        },
        "id": "ad63b34a",
        "outputId": "ad858e0e-9507-4c38-9922-7ddc197530ad"
      },
      "outputs": [
        {
          "output_type": "execute_result",
          "data": {
            "text/plain": [
              "(364171, 2)"
            ]
          },
          "metadata": {},
          "execution_count": 30
        }
      ],
      "source": [
        "eda_on_score.shape"
      ],
      "id": "ad63b34a"
    },
    {
      "cell_type": "code",
      "execution_count": 31,
      "metadata": {
        "colab": {
          "base_uri": "https://localhost:8080/",
          "height": 449
        },
        "id": "8cf5fbee",
        "outputId": "68114ad0-efcf-4386-8b76-c7caa2ef6421"
      },
      "outputs": [
        {
          "output_type": "display_data",
          "data": {
            "text/plain": [
              "<Figure size 640x480 with 1 Axes>"
            ],
            "image/png": "[encoded data removed]"
          },
          "metadata": {}
        }
      ],
      "source": [
        "sns.set_style('whitegrid')\n",
        "sns.countplot(x = 'Score', data = eda_on_score)\n",
        "plt.show()"
      ],
      "id": "8cf5fbee"
    },
    {
      "cell_type": "code",
      "execution_count": 31,
      "metadata": {
        "id": "52a08572"
      },
      "outputs": [],
      "source": [],
      "id": "52a08572"
    },
    {
      "cell_type": "code",
      "execution_count": 32,
      "metadata": {
        "id": "82380a22"
      },
      "outputs": [],
      "source": [
        "data['Score'] = data['Score'].replace('Positive', 1)\n",
        "data['Score'] = data['Score'].replace('Negative', 0)"
      ],
      "id": "82380a22"
    },
    {
      "cell_type": "code",
      "execution_count": 33,
      "metadata": {
        "colab": {
          "base_uri": "https://localhost:8080/",
          "height": 556
        },
        "id": "ed8a638d",
        "outputId": "7010d272-a9ba-499b-b1ae-3995483afb83"
      },
      "outputs": [
        {
          "output_type": "execute_result",
          "data": {
            "text/plain": [
              "            Id   ProductId          UserId               ProfileName  \\\n",
              "138706  150524  0006641040   ACITT7DI6IDDL           shari zychinski   \n",
              "138683  150501  0006641040   AJ46FKXOVC7NR        Nicholas A Mesiano   \n",
              "417839  451856  B00004CXX9   AIUWLEQ1ADEG5          Elizabeth Medina   \n",
              "212472  230285  B00004RYGX  A344SMIA5JECGM           Vincent P. Ross   \n",
              "417838  451855  B00004CXX9   AJH6LUC1UT1ON  The Phantom of the Opera   \n",
              "\n",
              "        HelpfulnessNumerator  HelpfulnessDenominator  Score       Time  \\\n",
              "138706                     0                       0      1  939340800   \n",
              "138683                     2                       2      1  940809600   \n",
              "417839                     0                       0      1  944092800   \n",
              "212472                     1                       2      1  944438400   \n",
              "417838                     0                       0      1  946857600   \n",
              "\n",
              "                                                  Summary  \\\n",
              "138706                          EVERY book is educational   \n",
              "138683  This whole series is great way to spend time w...   \n",
              "417839                               Entertainingl Funny!   \n",
              "212472                            A modern day fairy tale   \n",
              "417838                                         FANTASTIC!   \n",
              "\n",
              "                                                     Text  \\\n",
              "138706  this witty little book makes my son laugh at l...   \n",
              "138683  I can remember seeing the show when it aired o...   \n",
              "417839  Beetlejuice is a well written movie ..... ever...   \n",
              "212472  A twist of rumplestiskin captured on film, sta...   \n",
              "417838  Beetlejuice is an excellent and funny movie. K...   \n",
              "\n",
              "                                             Cleaned_text  \n",
              "138706  witti littl book make son laugh loud recit car...  \n",
              "138683  rememb see show air televis year ago child sis...  \n",
              "417839  beetlejuic well written movi everyth excel act...  \n",
              "212472  twist rumplestiskin captur film star michael k...  \n",
              "417838  beetlejuic excel funni movi keaton hilari wack...  "
            ],
            "text/html": [
              "\n",
              "  <div id=\"df-8df90704-7eae-42fe-a097-6e697bff0d27\" class=\"colab-df-container\">\n",
              "    <div>\n",
              "<style scoped>\n",
              "    .dataframe tbody tr th:only-of-type {\n",
              "        vertical-align: middle;\n",
              "    }\n",
              "\n",
              "    .dataframe tbody tr th {\n",
              "        vertical-align: top;\n",
              "    }\n",
              "\n",
              "    .dataframe thead th {\n",
              "        text-align: right;\n",
              "    }\n",
              "</style>\n",
              "<table border=\"1\" class=\"dataframe\">\n",
              "  <thead>\n",
              "    <tr style=\"text-align: right;\">\n",
              "      <th></th>\n",
              "      <th>Id</th>\n",
              "      <th>ProductId</th>\n",
              "      <th>UserId</th>\n",
              "      <th>ProfileName</th>\n",
              "      <th>HelpfulnessNumerator</th>\n",
              "      <th>HelpfulnessDenominator</th>\n",
              "      <th>Score</th>\n",
              "      <th>Time</th>\n",
              "      <th>Summary</th>\n",
              "      <th>Text</th>\n",
              "      <th>Cleaned_text</th>\n",
              "    </tr>\n",
              "  </thead>\n",
              "  <tbody>\n",
              "    <tr>\n",
              "      <th>138706</th>\n",
              "      <td>150524</td>\n",
              "      <td>0006641040</td>\n",
              "      <td>ACITT7DI6IDDL</td>\n",
              "      <td>shari zychinski</td>\n",
              "      <td>0</td>\n",
              "      <td>0</td>\n",
              "      <td>1</td>\n",
              "      <td>939340800</td>\n",
              "      <td>EVERY book is educational</td>\n",
              "      <td>this witty little book makes my son laugh at l...</td>\n",
              "      <td>witti littl book make son laugh loud recit car...</td>\n",
              "    </tr>\n",
              "    <tr>\n",
              "      <th>138683</th>\n",
              "      <td>150501</td>\n",
              "      <td>0006641040</td>\n",
              "      <td>AJ46FKXOVC7NR</td>\n",
              "      <td>Nicholas A Mesiano</td>\n",
              "      <td>2</td>\n",
              "      <td>2</td>\n",
              "      <td>1</td>\n",
              "      <td>940809600</td>\n",
              "      <td>This whole series is great way to spend time w...</td>\n",
              "      <td>I can remember seeing the show when it aired o...</td>\n",
              "      <td>rememb see show air televis year ago child sis...</td>\n",
              "    </tr>\n",
              "    <tr>\n",
              "      <th>417839</th>\n",
              "      <td>451856</td>\n",
              "      <td>B00004CXX9</td>\n",
              "      <td>AIUWLEQ1ADEG5</td>\n",
              "      <td>Elizabeth Medina</td>\n",
              "      <td>0</td>\n",
              "      <td>0</td>\n",
              "      <td>1</td>\n",
              "      <td>944092800</td>\n",
              "      <td>Entertainingl Funny!</td>\n",
              "      <td>Beetlejuice is a well written movie ..... ever...</td>\n",
              "      <td>beetlejuic well written movi everyth excel act...</td>\n",
              "    </tr>\n",
              "    <tr>\n",
              "      <th>212472</th>\n",
              "      <td>230285</td>\n",
              "      <td>B00004RYGX</td>\n",
              "      <td>A344SMIA5JECGM</td>\n",
              "      <td>Vincent P. Ross</td>\n",
              "      <td>1</td>\n",
              "      <td>2</td>\n",
              "      <td>1</td>\n",
              "      <td>944438400</td>\n",
              "      <td>A modern day fairy tale</td>\n",
              "      <td>A twist of rumplestiskin captured on film, sta...</td>\n",
              "      <td>twist rumplestiskin captur film star michael k...</td>\n",
              "    </tr>\n",
              "    <tr>\n",
              "      <th>417838</th>\n",
              "      <td>451855</td>\n",
              "      <td>B00004CXX9</td>\n",
              "      <td>AJH6LUC1UT1ON</td>\n",
              "      <td>The Phantom of the Opera</td>\n",
              "      <td>0</td>\n",
              "      <td>0</td>\n",
              "      <td>1</td>\n",
              "      <td>946857600</td>\n",
              "      <td>FANTASTIC!</td>\n",
              "      <td>Beetlejuice is an excellent and funny movie. K...</td>\n",
              "      <td>beetlejuic excel funni movi keaton hilari wack...</td>\n",
              "    </tr>\n",
              "  </tbody>\n",
              "</table>\n",
              "</div>\n",
              "    <div class=\"colab-df-buttons\">\n",
              "\n",
              "  <div class=\"colab-df-container\">\n",
              "    <button class=\"colab-df-convert\" onclick=\"convertToInteractive('df-8df90704-7eae-42fe-a097-6e697bff0d27')\"\n",
              "            title=\"Convert this dataframe to an interactive table.\"\n",
              "            style=\"display:none;\">\n",
              "\n",
              "  <svg xmlns=\"http://www.w3.org/2000/svg\" height=\"24px\" viewBox=\"0 -960 960 960\">\n",
              "    <path d=\"M120-120v-720h720v720H120Zm60-500h600v-160H180v160Zm220 220h160v-160H400v160Zm0 220h160v-160H400v160ZM180-400h160v-160H180v160Zm440 0h160v-160H620v160ZM180-180h160v-160H180v160Zm440 0h160v-160H620v160Z\"/>\n",
              "  </svg>\n",
              "    </button>\n",
              "\n",
              "  <style>\n",
              "    .colab-df-container {\n",
              "      display:flex;\n",
              "      gap: 12px;\n",
              "    }\n",
              "\n",
              "    .colab-df-convert {\n",
              "      background-color: #E8F0FE;\n",
              "      border: none;\n",
              "      border-radius: 50%;\n",
              "      cursor: pointer;\n",
              "      display: none;\n",
              "      fill: #1967D2;\n",
              "      height: 32px;\n",
              "      padding: 0 0 0 0;\n",
              "      width: 32px;\n",
              "    }\n",
              "\n",
              "    .colab-df-convert:hover {\n",
              "      background-color: #E2EBFA;\n",
              "      box-shadow: 0px 1px 2px rgba(60, 64, 67, 0.3), 0px 1px 3px 1px rgba(60, 64, 67, 0.15);\n",
              "      fill: #174EA6;\n",
              "    }\n",
              "\n",
              "    .colab-df-buttons div {\n",
              "      margin-bottom: 4px;\n",
              "    }\n",
              "\n",
              "    [theme=dark] .colab-df-convert {\n",
              "      background-color: #3B4455;\n",
              "      fill: #D2E3FC;\n",
              "    }\n",
              "\n",
              "    [theme=dark] .colab-df-convert:hover {\n",
              "      background-color: #434B5C;\n",
              "      box-shadow: 0px 1px 3px 1px rgba(0, 0, 0, 0.15);\n",
              "      filter: drop-shadow(0px 1px 2px rgba(0, 0, 0, 0.3));\n",
              "      fill: #FFFFFF;\n",
              "    }\n",
              "  </style>\n",
              "\n",
              "    <script>\n",
              "      const buttonEl =\n",
              "        document.querySelector('#df-8df90704-7eae-42fe-a097-6e697bff0d27 button.colab-df-convert');\n",
              "      buttonEl.style.display =\n",
              "        google.colab.kernel.accessAllowed ? 'block' : 'none';\n",
              "\n",
              "      async function convertToInteractive(key) {\n",
              "        const element = document.querySelector('#df-8df90704-7eae-42fe-a097-6e697bff0d27');\n",
              "        const dataTable =\n",
              "          await google.colab.kernel.invokeFunction('convertToInteractive',\n",
              "                                                    [key], {});\n",
              "        if (!dataTable) return;\n",
              "\n",
              "        const docLinkHtml = 'Like what you see? Visit the ' +\n",
              "          '<a target=\"_blank\" href=https://colab.research.google.com/notebooks/data_table.ipynb>data table notebook</a>'\n",
              "          + ' to learn more about interactive tables.';\n",
              "        element.innerHTML = '';\n",
              "        dataTable['output_type'] = 'display_data';\n",
              "        await google.colab.output.renderOutput(dataTable, element);\n",
              "        const docLink = document.createElement('div');\n",
              "        docLink.innerHTML = docLinkHtml;\n",
              "        element.appendChild(docLink);\n",
              "      }\n",
              "    </script>\n",
              "  </div>\n",
              "\n",
              "\n",
              "<div id=\"df-68eeeb76-32b8-4c62-9470-cea01706a03c\">\n",
              "  <button class=\"colab-df-quickchart\" onclick=\"quickchart('df-68eeeb76-32b8-4c62-9470-cea01706a03c')\"\n",
              "            title=\"Suggest charts.\"\n",
              "            style=\"display:none;\">\n",
              "\n",
              "<svg xmlns=\"http://www.w3.org/2000/svg\" height=\"24px\"viewBox=\"0 0 24 24\"\n",
              "     width=\"24px\">\n",
              "    <g>\n",
              "        <path d=\"M19 3H5c-1.1 0-2 .9-2 2v14c0 1.1.9 2 2 2h14c1.1 0 2-.9 2-2V5c0-1.1-.9-2-2-2zM9 17H7v-7h2v7zm4 0h-2V7h2v10zm4 0h-2v-4h2v4z\"/>\n",
              "    </g>\n",
              "</svg>\n",
              "  </button>\n",
              "\n",
              "<style>\n",
              "  .colab-df-quickchart {\n",
              "      --bg-color: #E8F0FE;\n",
              "      --fill-color: #1967D2;\n",
              "      --hover-bg-color: #E2EBFA;\n",
              "      --hover-fill-color: #174EA6;\n",
              "      --disabled-fill-color: #AAA;\n",
              "      --disabled-bg-color: #DDD;\n",
              "  }\n",
              "\n",
              "  [theme=dark] .colab-df-quickchart {\n",
              "      --bg-color: #3B4455;\n",
              "      --fill-color: #D2E3FC;\n",
              "      --hover-bg-color: #434B5C;\n",
              "      --hover-fill-color: #FFFFFF;\n",
              "      --disabled-bg-color: #3B4455;\n",
              "      --disabled-fill-color: #666;\n",
              "  }\n",
              "\n",
              "  .colab-df-quickchart {\n",
              "    background-color: var(--bg-color);\n",
              "    border: none;\n",
              "    border-radius: 50%;\n",
              "    cursor: pointer;\n",
              "    display: none;\n",
              "    fill: var(--fill-color);\n",
              "    height: 32px;\n",
              "    padding: 0;\n",
              "    width: 32px;\n",
              "  }\n",
              "\n",
              "  .colab-df-quickchart:hover {\n",
              "    background-color: var(--hover-bg-color);\n",
              "    box-shadow: 0 1px 2px rgba(60, 64, 67, 0.3), 0 1px 3px 1px rgba(60, 64, 67, 0.15);\n",
              "    fill: var(--button-hover-fill-color);\n",
              "  }\n",
              "\n",
              "  .colab-df-quickchart-complete:disabled,\n",
              "  .colab-df-quickchart-complete:disabled:hover {\n",
              "    background-color: var(--disabled-bg-color);\n",
              "    fill: var(--disabled-fill-color);\n",
              "    box-shadow: none;\n",
              "  }\n",
              "\n",
              "  .colab-df-spinner {\n",
              "    border: 2px solid var(--fill-color);\n",
              "    border-color: transparent;\n",
              "    border-bottom-color: var(--fill-color);\n",
              "    animation:\n",
              "      spin 1s steps(1) infinite;\n",
              "  }\n",
              "\n",
              "  @keyframes spin {\n",
              "    0% {\n",
              "      border-color: transparent;\n",
              "      border-bottom-color: var(--fill-color);\n",
              "      border-left-color: var(--fill-color);\n",
              "    }\n",
              "    20% {\n",
              "      border-color: transparent;\n",
              "      border-left-color: var(--fill-color);\n",
              "      border-top-color: var(--fill-color);\n",
              "    }\n",
              "    30% {\n",
              "      border-color: transparent;\n",
              "      border-left-color: var(--fill-color);\n",
              "      border-top-color: var(--fill-color);\n",
              "      border-right-color: var(--fill-color);\n",
              "    }\n",
              "    40% {\n",
              "      border-color: transparent;\n",
              "      border-right-color: var(--fill-color);\n",
              "      border-top-color: var(--fill-color);\n",
              "    }\n",
              "    60% {\n",
              "      border-color: transparent;\n",
              "      border-right-color: var(--fill-color);\n",
              "    }\n",
              "    80% {\n",
              "      border-color: transparent;\n",
              "      border-right-color: var(--fill-color);\n",
              "      border-bottom-color: var(--fill-color);\n",
              "    }\n",
              "    90% {\n",
              "      border-color: transparent;\n",
              "      border-bottom-color: var(--fill-color);\n",
              "    }\n",
              "  }\n",
              "</style>\n",
              "\n",
              "  <script>\n",
              "    async function quickchart(key) {\n",
              "      const quickchartButtonEl =\n",
              "        document.querySelector('#' + key + ' button');\n",
              "      quickchartButtonEl.disabled = true;  // To prevent multiple clicks.\n",
              "      quickchartButtonEl.classList.add('colab-df-spinner');\n",
              "      try {\n",
              "        const charts = await google.colab.kernel.invokeFunction(\n",
              "            'suggestCharts', [key], {});\n",
              "      } catch (error) {\n",
              "        console.error('Error during call to suggestCharts:', error);\n",
              "      }\n",
              "      quickchartButtonEl.classList.remove('colab-df-spinner');\n",
              "      quickchartButtonEl.classList.add('colab-df-quickchart-complete');\n",
              "    }\n",
              "    (() => {\n",
              "      let quickchartButtonEl =\n",
              "        document.querySelector('#df-68eeeb76-32b8-4c62-9470-cea01706a03c button');\n",
              "      quickchartButtonEl.style.display =\n",
              "        google.colab.kernel.accessAllowed ? 'block' : 'none';\n",
              "    })();\n",
              "  </script>\n",
              "</div>\n",
              "    </div>\n",
              "  </div>\n"
            ]
          },
          "metadata": {},
          "execution_count": 33
        }
      ],
      "source": [
        "data.sort_values('Time', inplace=True)\n",
        "data.head()"
      ],
      "id": "ed8a638d"
    },
    {
      "cell_type": "code",
      "execution_count": 34,
      "metadata": {
        "id": "db459fb4"
      },
      "outputs": [],
      "source": [
        "data = data[:10000]"
      ],
      "id": "db459fb4"
    },
    {
      "cell_type": "code",
      "execution_count": 35,
      "metadata": {
        "colab": {
          "base_uri": "https://localhost:8080/"
        },
        "id": "522e5b08",
        "outputId": "bd1ec1a7-64ba-465b-fb84-c63a1adf010c"
      },
      "outputs": [
        {
          "output_type": "execute_result",
          "data": {
            "text/plain": [
              "(10000, 11)"
            ]
          },
          "metadata": {},
          "execution_count": 35
        }
      ],
      "source": [
        "data.shape"
      ],
      "id": "522e5b08"
    },
    {
      "cell_type": "markdown",
      "metadata": {
        "id": "f7abf79f"
      },
      "source": [
        "### Bag of Words"
      ],
      "id": "f7abf79f"
    },
    {
      "cell_type": "code",
      "execution_count": 36,
      "metadata": {
        "id": "88c5d5e7"
      },
      "outputs": [],
      "source": [
        "from sklearn.model_selection import train_test_split\n",
        "from sklearn import preprocessing\n",
        "from sklearn.preprocessing import StandardScaler\n",
        "from sklearn.model_selection import RandomizedSearchCV, GridSearchCV\n",
        "from sklearn.linear_model import LogisticRegression"
      ],
      "id": "88c5d5e7"
    },
    {
      "cell_type": "code",
      "execution_count": 37,
      "metadata": {
        "id": "e41e4f79"
      },
      "outputs": [],
      "source": [
        "x = data['Cleaned_text']\n",
        "y = data['Score'].values\n",
        "#X_train, X_test, y_train, y_test = train_test_split(final['CleanedText'].values,final['Score'].values,test_size=0.3,shuffle=False)\n"
      ],
      "id": "e41e4f79"
    },
    {
      "cell_type": "code",
      "execution_count": 37,
      "metadata": {
        "id": "pjFjno5cypcx"
      },
      "outputs": [],
      "source": [],
      "id": "pjFjno5cypcx"
    },
    {
      "cell_type": "code",
      "execution_count": 38,
      "metadata": {
        "id": "5b3f93d0"
      },
      "outputs": [],
      "source": [
        "x_train, x_test, y_train, y_test = train_test_split(x, y, test_size = 0.2, shuffle=False)\n"
      ],
      "id": "5b3f93d0"
    },
    {
      "cell_type": "code",
      "execution_count": 39,
      "metadata": {
        "id": "31a68a5b"
      },
      "outputs": [],
      "source": [
        "train = x_train.copy()\n",
        "test = x_test.copy()\n",
        "\n",
        "w2v_train_data = x_train.copy()\n",
        "w2v_test_data = x_test.copy()"
      ],
      "id": "31a68a5b"
    },
    {
      "cell_type": "code",
      "execution_count": 40,
      "metadata": {
        "colab": {
          "base_uri": "https://localhost:8080/"
        },
        "id": "4f03b925",
        "outputId": "da0c6062-edda-428f-bb84-f97d5e6c1004"
      },
      "outputs": [
        {
          "output_type": "execute_result",
          "data": {
            "text/plain": [
              "138706    witti littl book make son laugh loud recit car...\n",
              "138683    rememb see show air televis year ago child sis...\n",
              "Name: Cleaned_text, dtype: object"
            ]
          },
          "metadata": {},
          "execution_count": 40
        }
      ],
      "source": [
        "train[:2]"
      ],
      "id": "4f03b925"
    },
    {
      "cell_type": "code",
      "execution_count": 41,
      "metadata": {
        "id": "107e0d26"
      },
      "outputs": [],
      "source": [
        "count_vect= CountVectorizer(ngram_range=(1,2), analyzer='word', max_features=5000)\n",
        "sc = StandardScaler(with_mean=False)\n",
        "\n",
        "bow_train = count_vect.fit_transform(x_train)\n",
        "bow_train = sc.fit_transform(bow_train)\n",
        "bow_train = preprocessing.normalize(bow_train)\n",
        "\n",
        "\n",
        "bow_test = count_vect.transform(x_test)\n",
        "bow_test = preprocessing.normalize(bow_test)\n",
        "bow_test = sc.transform(bow_test)"
      ],
      "id": "107e0d26"
    },
    {
      "cell_type": "code",
      "execution_count": 42,
      "metadata": {
        "colab": {
          "base_uri": "https://localhost:8080/"
        },
        "id": "309ab087",
        "outputId": "80fab2dc-2404-440e-a6bb-1c32f7ae5efd"
      },
      "outputs": [
        {
          "output_type": "stream",
          "name": "stdout",
          "text": [
            "Train Data =  (8000,)\n",
            "Test data =  (2000,)\n"
          ]
        }
      ],
      "source": [
        "print('Train Data = ', x_train.shape)\n",
        "print('Test data = ', x_test.shape)"
      ],
      "id": "309ab087"
    },
    {
      "cell_type": "code",
      "execution_count": 43,
      "metadata": {
        "id": "0e289f48"
      },
      "outputs": [],
      "source": [
        "from sklearn.model_selection import TimeSeriesSplit\n",
        "tscv = TimeSeriesSplit(n_splits=10)\n",
        "#scv.split(x_train)"
      ],
      "id": "0e289f48"
    },
    {
      "cell_type": "code",
      "execution_count": 44,
      "metadata": {
        "id": "b6908c93"
      },
      "outputs": [],
      "source": [
        "from sklearn.model_selection import GridSearchCV\n"
      ],
      "id": "b6908c93"
    },
    {
      "cell_type": "code",
      "execution_count": 45,
      "metadata": {
        "id": "72e2ce12"
      },
      "outputs": [],
      "source": [
        "from sklearn.feature_extraction.text import TfidfVectorizer\n",
        "\n",
        "#x_train, x_test, y_train, y_test = train_test_split(x, y, test_size = 0.2, shuffle=False)\n",
        "tfidf_vect = TfidfVectorizer(ngram_range=(1,2), analyzer='word', max_features=5000)\n",
        "sc = StandardScaler(with_mean=False)\n",
        "\n",
        "tfidf_train = tfidf_vect.fit_transform(train)\n",
        "tfidf_train = preprocessing.normalize(tfidf_train)\n",
        "#tfidf_train = sc.fit_transform(tfidf_train)\n",
        "\n",
        "tfidf_test = tfidf_vect.transform(test)\n",
        "tfidf_test = preprocessing.normalize(tfidf_test)\n",
        "#tfidf_test = sc.transform(tfidf_test)"
      ],
      "id": "72e2ce12"
    },
    {
      "cell_type": "code",
      "execution_count": 45,
      "metadata": {
        "id": "9b90bce9"
      },
      "outputs": [],
      "source": [],
      "id": "9b90bce9"
    },
    {
      "cell_type": "markdown",
      "source": [
        "# Model Selection"
      ],
      "metadata": {
        "id": "H9EDyu9ylbyr"
      },
      "id": "H9EDyu9ylbyr"
    },
    {
      "cell_type": "code",
      "execution_count": 46,
      "metadata": {
        "id": "c6184138"
      },
      "outputs": [],
      "source": [
        "from sklearn.neighbors import KNeighborsClassifier\n",
        "from sklearn.linear_model import LogisticRegression\n",
        "from sklearn.naive_bayes import MultinomialNB\n",
        "from sklearn.tree import DecisionTreeClassifier\n",
        "from sklearn.ensemble import RandomForestClassifier\n",
        "from sklearn.svm import SVC\n",
        "from xgboost import XGBClassifier\n",
        "from sklearn.naive_bayes import GaussianNB"
      ],
      "id": "c6184138"
    },
    {
      "cell_type": "code",
      "execution_count": 46,
      "metadata": {
        "id": "9200cf40"
      },
      "outputs": [],
      "source": [],
      "id": "9200cf40"
    },
    {
      "cell_type": "code",
      "execution_count": 47,
      "metadata": {
        "id": "59cf16f0"
      },
      "outputs": [],
      "source": [
        "def modelTreainer(x_train, x_test):\n",
        "    try:\n",
        "        models = {\n",
        "            'Random Forest' : RandomForestClassifier(),\n",
        "            'Logistic regression' : LogisticRegression(penalty ='l2', max_iter=1000),\n",
        "            'Xgboost' : XGBClassifier(use_label_encoder=False,\n",
        "                                    n_estimators=140,\n",
        "                                    objective= 'binary:logistic',\n",
        "                                    max_depth=5,\n",
        "                                    min_child_weight=1,\n",
        "                                    subsample=0.8,\n",
        "                                    colsample_bytree=0.8,\n",
        "                                    nthread=4,\n",
        "                                    eval_metric='logloss'),\n",
        "\n",
        "            'KNN' : KNeighborsClassifier(),\n",
        "            'SVM' : SVC(),\n",
        "            'Naive Bayes' : GaussianNB(),\n",
        "        }\n",
        "\n",
        "        params = {\n",
        "            'Random Forest':{\n",
        "                #'criterion':[],\n",
        "                #'splitter':['best', 'random'],\n",
        "                'max_features':['sqrt', 'log2'],\n",
        "                'n_estimators':[8, 16, 32, 64]\n",
        "            },\n",
        "\n",
        "\n",
        "            'Logistic regression':{\n",
        "              'C':[0.1, 0.01],\n",
        "              'solver': ['newton-cg', 'lbfgs']\n",
        "            },\n",
        "\n",
        "            'Xgboost':{\n",
        "                 'max_depth':range(3,8,2),\n",
        "                 'min_child_weight':range(1,5,2)\n",
        "            },\n",
        "\n",
        "\n",
        "            'Naive Bayes':{\n",
        "               # \"gamma\": [0.1, 1.0, 10],\n",
        "                'var_smoothing': np.logspace(0,-9, num=2)\n",
        "            },\n",
        "\n",
        "            'KNN':{\n",
        "                #leaf_size = list(range(1,50))\n",
        "                'n_neighbors' : list(range(2,10))\n",
        "               # p=[1,2]\n",
        "            },\n",
        "\n",
        "\n",
        "            'SVM':{\n",
        "                'C': [0.1, 1, 10],\n",
        "              'gamma': [1, 0.1, 0.01],\n",
        "              #'kernel': ['rbf']\n",
        "            }\n",
        "\n",
        "\n",
        "        }\n",
        "\n",
        "        model_report:dict=model_evaluate(x_train, y_train, x_test, y_test, models, params)\n",
        "        best_model_score = max(sorted(model_report.values()))\n",
        "\n",
        "        best_model_name = list(model_report.keys())[\n",
        "            list(model_report.values()).index(best_model_score)\n",
        "        ]\n",
        "\n",
        "        best_model = models[best_model_name]\n",
        "        pred = best_model.predict(x_test)\n",
        "        score = accuracy_score(y_test, pred)\n",
        "\n",
        "        return score\n",
        "    except Exception as e:\n",
        "        print(e)"
      ],
      "id": "59cf16f0"
    },
    {
      "cell_type": "code",
      "execution_count": 47,
      "metadata": {
        "id": "e247a435"
      },
      "outputs": [],
      "source": [],
      "id": "e247a435"
    },
    {
      "cell_type": "markdown",
      "source": [
        "# Model Evaluation"
      ],
      "metadata": {
        "id": "45Wn2ihNlhNu"
      },
      "id": "45Wn2ihNlhNu"
    },
    {
      "cell_type": "code",
      "execution_count": 48,
      "metadata": {
        "id": "bfaece4e"
      },
      "outputs": [],
      "source": [
        "report = dict()\n",
        "best_para = dict()\n",
        "def model_evaluate(x_train, y_train, x_test, y_test, models, params):\n",
        "    try:\n",
        "        for i in range(len(list(models))):\n",
        "            model = list(models.values())[i]\n",
        "            para = params[list(models.keys())[i]]\n",
        "            gs = GridSearchCV(model, para, cv=3)\n",
        "\n",
        "            gs.fit(x_train, y_train)\n",
        "\n",
        "            model.set_params(**gs.best_params_)\n",
        "\n",
        "            model.fit(x_train, y_train)\n",
        "            y_pred = model.predict(x_test)\n",
        "\n",
        "            model_score = accuracy_score(y_test, y_pred)\n",
        "            report[list(models.keys())[i]] = model_score\n",
        "            best_para[list(models.keys())[i]] = gs.best_params_\n",
        "\n",
        "        return report\n",
        "\n",
        "    except Exception as e:\n",
        "        print(e)"
      ],
      "id": "bfaece4e"
    },
    {
      "cell_type": "code",
      "execution_count": 49,
      "metadata": {
        "id": "gvsXfw9x9MeN"
      },
      "outputs": [],
      "source": [
        "# list(models)"
      ],
      "id": "gvsXfw9x9MeN"
    },
    {
      "cell_type": "code",
      "execution_count": 49,
      "metadata": {
        "id": "mZ_Wph9e9Mny"
      },
      "outputs": [],
      "source": [],
      "id": "mZ_Wph9e9Mny"
    },
    {
      "cell_type": "markdown",
      "source": [
        "### Utilizing GPU For model selection"
      ],
      "metadata": {
        "id": "QWrO0suulmHb"
      },
      "id": "QWrO0suulmHb"
    },
    {
      "cell_type": "code",
      "execution_count": 50,
      "metadata": {
        "colab": {
          "base_uri": "https://localhost:8080/"
        },
        "id": "g6_AoU5Y10YM",
        "outputId": "58fd5e7d-7ce4-4aef-d043-7cf0bac1a2d3"
      },
      "outputs": [
        {
          "output_type": "stream",
          "name": "stdout",
          "text": [
            "Num GPUs Available:  0\n"
          ]
        }
      ],
      "source": [
        "import tensorflow as tf\n",
        "print(\"Num GPUs Available: \", len(tf.config.list_physical_devices('GPU')))"
      ],
      "id": "g6_AoU5Y10YM"
    },
    {
      "cell_type": "code",
      "execution_count": 51,
      "metadata": {
        "colab": {
          "base_uri": "https://localhost:8080/"
        },
        "id": "HJw3UkPU10gj",
        "outputId": "0905f3c4-a82f-4a61-d84b-16b2e0821e60"
      },
      "outputs": [
        {
          "output_type": "execute_result",
          "data": {
            "text/plain": [
              "[]"
            ]
          },
          "metadata": {},
          "execution_count": 51
        }
      ],
      "source": [
        "tf.config.list_physical_devices('GPU')"
      ],
      "id": "HJw3UkPU10gj"
    },
    {
      "cell_type": "code",
      "execution_count": 52,
      "metadata": {
        "id": "4fa46da3"
      },
      "outputs": [],
      "source": [
        "with tf.device('/GPU:0'):\n",
        "  modelTreainer(bow_train.toarray(), bow_test.toarray())"
      ],
      "id": "4fa46da3"
    },
    {
      "cell_type": "code",
      "execution_count": 53,
      "metadata": {
        "colab": {
          "base_uri": "https://localhost:8080/"
        },
        "id": "95vKWSA8wbqb",
        "outputId": "8e1ebfa3-2c3c-4b86-f935-e2ed4aeffff4"
      },
      "outputs": [
        {
          "output_type": "stream",
          "name": "stdout",
          "text": [
            "<bound method _cs_matrix.toarray of <8000x5000 sparse matrix of type '<class 'numpy.float64'>'\n",
            "\twith 272323 stored elements in Compressed Sparse Row format>> <bound method _cs_matrix.toarray of <2000x5000 sparse matrix of type '<class 'numpy.float64'>'\n",
            "\twith 56646 stored elements in Compressed Sparse Row format>>\n"
          ]
        }
      ],
      "source": [
        "print(bow_train.toarray, bow_test.toarray)"
      ],
      "id": "95vKWSA8wbqb"
    },
    {
      "cell_type": "code",
      "execution_count": 54,
      "metadata": {
        "colab": {
          "base_uri": "https://localhost:8080/",
          "height": 81
        },
        "id": "78697d72",
        "outputId": "acdd16c6-a39a-44db-9310-e8ad9d967630"
      },
      "outputs": [
        {
          "output_type": "execute_result",
          "data": {
            "text/plain": [
              "   Random Forest  Logistic regression  Xgboost     KNN    SVM  Naive Bayes\n",
              "1         0.7545               0.9175   0.9035  0.8915  0.434       0.8665"
            ],
            "text/html": [
              "\n",
              "  <div id=\"df-9f515a70-ff15-4119-bb43-f6a8b344084f\" class=\"colab-df-container\">\n",
              "    <div>\n",
              "<style scoped>\n",
              "    .dataframe tbody tr th:only-of-type {\n",
              "        vertical-align: middle;\n",
              "    }\n",
              "\n",
              "    .dataframe tbody tr th {\n",
              "        vertical-align: top;\n",
              "    }\n",
              "\n",
              "    .dataframe thead th {\n",
              "        text-align: right;\n",
              "    }\n",
              "</style>\n",
              "<table border=\"1\" class=\"dataframe\">\n",
              "  <thead>\n",
              "    <tr style=\"text-align: right;\">\n",
              "      <th></th>\n",
              "      <th>Random Forest</th>\n",
              "      <th>Logistic regression</th>\n",
              "      <th>Xgboost</th>\n",
              "      <th>KNN</th>\n",
              "      <th>SVM</th>\n",
              "      <th>Naive Bayes</th>\n",
              "    </tr>\n",
              "  </thead>\n",
              "  <tbody>\n",
              "    <tr>\n",
              "      <th>1</th>\n",
              "      <td>0.7545</td>\n",
              "      <td>0.9175</td>\n",
              "      <td>0.9035</td>\n",
              "      <td>0.8915</td>\n",
              "      <td>0.434</td>\n",
              "      <td>0.8665</td>\n",
              "    </tr>\n",
              "  </tbody>\n",
              "</table>\n",
              "</div>\n",
              "    <div class=\"colab-df-buttons\">\n",
              "\n",
              "  <div class=\"colab-df-container\">\n",
              "    <button class=\"colab-df-convert\" onclick=\"convertToInteractive('df-9f515a70-ff15-4119-bb43-f6a8b344084f')\"\n",
              "            title=\"Convert this dataframe to an interactive table.\"\n",
              "            style=\"display:none;\">\n",
              "\n",
              "  <svg xmlns=\"http://www.w3.org/2000/svg\" height=\"24px\" viewBox=\"0 -960 960 960\">\n",
              "    <path d=\"M120-120v-720h720v720H120Zm60-500h600v-160H180v160Zm220 220h160v-160H400v160Zm0 220h160v-160H400v160ZM180-400h160v-160H180v160Zm440 0h160v-160H620v160ZM180-180h160v-160H180v160Zm440 0h160v-160H620v160Z\"/>\n",
              "  </svg>\n",
              "    </button>\n",
              "\n",
              "  <style>\n",
              "    .colab-df-container {\n",
              "      display:flex;\n",
              "      gap: 12px;\n",
              "    }\n",
              "\n",
              "    .colab-df-convert {\n",
              "      background-color: #E8F0FE;\n",
              "      border: none;\n",
              "      border-radius: 50%;\n",
              "      cursor: pointer;\n",
              "      display: none;\n",
              "      fill: #1967D2;\n",
              "      height: 32px;\n",
              "      padding: 0 0 0 0;\n",
              "      width: 32px;\n",
              "    }\n",
              "\n",
              "    .colab-df-convert:hover {\n",
              "      background-color: #E2EBFA;\n",
              "      box-shadow: 0px 1px 2px rgba(60, 64, 67, 0.3), 0px 1px 3px 1px rgba(60, 64, 67, 0.15);\n",
              "      fill: #174EA6;\n",
              "    }\n",
              "\n",
              "    .colab-df-buttons div {\n",
              "      margin-bottom: 4px;\n",
              "    }\n",
              "\n",
              "    [theme=dark] .colab-df-convert {\n",
              "      background-color: #3B4455;\n",
              "      fill: #D2E3FC;\n",
              "    }\n",
              "\n",
              "    [theme=dark] .colab-df-convert:hover {\n",
              "      background-color: #434B5C;\n",
              "      box-shadow: 0px 1px 3px 1px rgba(0, 0, 0, 0.15);\n",
              "      filter: drop-shadow(0px 1px 2px rgba(0, 0, 0, 0.3));\n",
              "      fill: #FFFFFF;\n",
              "    }\n",
              "  </style>\n",
              "\n",
              "    <script>\n",
              "      const buttonEl =\n",
              "        document.querySelector('#df-9f515a70-ff15-4119-bb43-f6a8b344084f button.colab-df-convert');\n",
              "      buttonEl.style.display =\n",
              "        google.colab.kernel.accessAllowed ? 'block' : 'none';\n",
              "\n",
              "      async function convertToInteractive(key) {\n",
              "        const element = document.querySelector('#df-9f515a70-ff15-4119-bb43-f6a8b344084f');\n",
              "        const dataTable =\n",
              "          await google.colab.kernel.invokeFunction('convertToInteractive',\n",
              "                                                    [key], {});\n",
              "        if (!dataTable) return;\n",
              "\n",
              "        const docLinkHtml = 'Like what you see? Visit the ' +\n",
              "          '<a target=\"_blank\" href=https://colab.research.google.com/notebooks/data_table.ipynb>data table notebook</a>'\n",
              "          + ' to learn more about interactive tables.';\n",
              "        element.innerHTML = '';\n",
              "        dataTable['output_type'] = 'display_data';\n",
              "        await google.colab.output.renderOutput(dataTable, element);\n",
              "        const docLink = document.createElement('div');\n",
              "        docLink.innerHTML = docLinkHtml;\n",
              "        element.appendChild(docLink);\n",
              "      }\n",
              "    </script>\n",
              "  </div>\n",
              "\n",
              "    </div>\n",
              "  </div>\n"
            ]
          },
          "metadata": {},
          "execution_count": 54
        }
      ],
      "source": [
        "pd.DataFrame(report, index=[1])"
      ],
      "id": "78697d72"
    },
    {
      "cell_type": "code",
      "execution_count": 55,
      "metadata": {
        "colab": {
          "base_uri": "https://localhost:8080/"
        },
        "id": "2c8d7c9f",
        "outputId": "466152a2-ac85-4254-d595-e81d1f970fec"
      },
      "outputs": [
        {
          "output_type": "execute_result",
          "data": {
            "text/plain": [
              "{'Random Forest': {'max_features': 'sqrt', 'n_estimators': 32},\n",
              " 'Logistic regression': {'C': 0.1, 'solver': 'newton-cg'},\n",
              " 'Xgboost': {'max_depth': 3, 'min_child_weight': 1},\n",
              " 'KNN': {'n_neighbors': 8},\n",
              " 'SVM': {'C': 10, 'gamma': 0.1},\n",
              " 'Naive Bayes': {'var_smoothing': 1e-09}}"
            ]
          },
          "metadata": {},
          "execution_count": 55
        }
      ],
      "source": [
        "best_para"
      ],
      "id": "2c8d7c9f"
    },
    {
      "cell_type": "code",
      "source": [],
      "metadata": {
        "id": "ELoM3pqDl10I"
      },
      "id": "ELoM3pqDl10I",
      "execution_count": null,
      "outputs": []
    },
    {
      "cell_type": "markdown",
      "source": [
        "### Logistic Regression with Bag of Word"
      ],
      "metadata": {
        "id": "G4CpQWG0l3SQ"
      },
      "id": "G4CpQWG0l3SQ"
    },
    {
      "cell_type": "code",
      "execution_count": 56,
      "metadata": {
        "colab": {
          "base_uri": "https://localhost:8080/",
          "height": 75
        },
        "id": "okpCV0wPLOFw",
        "outputId": "977a5583-5e14-4a1a-8fef-d13a46982038"
      },
      "outputs": [
        {
          "output_type": "execute_result",
          "data": {
            "text/plain": [
              "LogisticRegression(C=0.1, max_iter=1000, solver='newton-cg')"
            ],
            "text/html": [
              "<style>#sk-container-id-1 {color: black;background-color: white;}#sk-container-id-1 pre{padding: 0;}#sk-container-id-1 div.sk-toggleable {background-color: white;}#sk-container-id-1 label.sk-toggleable__label {cursor: pointer;display: block;width: 100%;margin-bottom: 0;padding: 0.3em;box-sizing: border-box;text-align: center;}#sk-container-id-1 label.sk-toggleable__label-arrow:before {content: \"▸\";float: left;margin-right: 0.25em;color: #696969;}#sk-container-id-1 label.sk-toggleable__label-arrow:hover:before {color: black;}#sk-container-id-1 div.sk-estimator:hover label.sk-toggleable__label-arrow:before {color: black;}#sk-container-id-1 div.sk-toggleable__content {max-height: 0;max-width: 0;overflow: hidden;text-align: left;background-color: #f0f8ff;}#sk-container-id-1 div.sk-toggleable__content pre {margin: 0.2em;color: black;border-radius: 0.25em;background-color: #f0f8ff;}#sk-container-id-1 input.sk-toggleable__control:checked~div.sk-toggleable__content {max-height: 200px;max-width: 100%;overflow: auto;}#sk-container-id-1 input.sk-toggleable__control:checked~label.sk-toggleable__label-arrow:before {content: \"▾\";}#sk-container-id-1 div.sk-estimator input.sk-toggleable__control:checked~label.sk-toggleable__label {background-color: #d4ebff;}#sk-container-id-1 div.sk-label input.sk-toggleable__control:checked~label.sk-toggleable__label {background-color: #d4ebff;}#sk-container-id-1 input.sk-hidden--visually {border: 0;clip: rect(1px 1px 1px 1px);clip: rect(1px, 1px, 1px, 1px);height: 1px;margin: -1px;overflow: hidden;padding: 0;position: absolute;width: 1px;}#sk-container-id-1 div.sk-estimator {font-family: monospace;background-color: #f0f8ff;border: 1px dotted black;border-radius: 0.25em;box-sizing: border-box;margin-bottom: 0.5em;}#sk-container-id-1 div.sk-estimator:hover {background-color: #d4ebff;}#sk-container-id-1 div.sk-parallel-item::after {content: \"\";width: 100%;border-bottom: 1px solid gray;flex-grow: 1;}#sk-container-id-1 div.sk-label:hover label.sk-toggleable__label {background-color: #d4ebff;}#sk-container-id-1 div.sk-serial::before {content: \"\";position: absolute;border-left: 1px solid gray;box-sizing: border-box;top: 0;bottom: 0;left: 50%;z-index: 0;}#sk-container-id-1 div.sk-serial {display: flex;flex-direction: column;align-items: center;background-color: white;padding-right: 0.2em;padding-left: 0.2em;position: relative;}#sk-container-id-1 div.sk-item {position: relative;z-index: 1;}#sk-container-id-1 div.sk-parallel {display: flex;align-items: stretch;justify-content: center;background-color: white;position: relative;}#sk-container-id-1 div.sk-item::before, #sk-container-id-1 div.sk-parallel-item::before {content: \"\";position: absolute;border-left: 1px solid gray;box-sizing: border-box;top: 0;bottom: 0;left: 50%;z-index: -1;}#sk-container-id-1 div.sk-parallel-item {display: flex;flex-direction: column;z-index: 1;position: relative;background-color: white;}#sk-container-id-1 div.sk-parallel-item:first-child::after {align-self: flex-end;width: 50%;}#sk-container-id-1 div.sk-parallel-item:last-child::after {align-self: flex-start;width: 50%;}#sk-container-id-1 div.sk-parallel-item:only-child::after {width: 0;}#sk-container-id-1 div.sk-dashed-wrapped {border: 1px dashed gray;margin: 0 0.4em 0.5em 0.4em;box-sizing: border-box;padding-bottom: 0.4em;background-color: white;}#sk-container-id-1 div.sk-label label {font-family: monospace;font-weight: bold;display: inline-block;line-height: 1.2em;}#sk-container-id-1 div.sk-label-container {text-align: center;}#sk-container-id-1 div.sk-container {/* jupyter's `normalize.less` sets `[hidden] { display: none; }` but bootstrap.min.css set `[hidden] { display: none !important; }` so we also need the `!important` here to be able to override the default hidden behavior on the sphinx rendered scikit-learn.org. See: https://github.com/scikit-learn/scikit-learn/issues/21755 */display: inline-block !important;position: relative;}#sk-container-id-1 div.sk-text-repr-fallback {display: none;}</style><div id=\"sk-container-id-1\" class=\"sk-top-container\"><div class=\"sk-text-repr-fallback\"><pre>LogisticRegression(C=0.1, max_iter=1000, solver=&#x27;newton-cg&#x27;)</pre><b>In a Jupyter environment, please rerun this cell to show the HTML representation or trust the notebook. <br />On GitHub, the HTML representation is unable to render, please try loading this page with nbviewer.org.</b></div><div class=\"sk-container\" hidden><div class=\"sk-item\"><div class=\"sk-estimator sk-toggleable\"><input class=\"sk-toggleable__control sk-hidden--visually\" id=\"sk-estimator-id-1\" type=\"checkbox\" checked><label for=\"sk-estimator-id-1\" class=\"sk-toggleable__label sk-toggleable__label-arrow\">LogisticRegression</label><div class=\"sk-toggleable__content\"><pre>LogisticRegression(C=0.1, max_iter=1000, solver=&#x27;newton-cg&#x27;)</pre></div></div></div></div></div>"
            ]
          },
          "metadata": {},
          "execution_count": 56
        }
      ],
      "source": [
        "bow_lr = LogisticRegression(penalty ='l2', max_iter=1000, C = 0.1, solver = 'newton-cg')\n",
        "bow_lr.fit(bow_train.toarray(), y_train)"
      ],
      "id": "okpCV0wPLOFw"
    },
    {
      "cell_type": "code",
      "execution_count": 57,
      "metadata": {
        "id": "gSkGISPCLORs"
      },
      "outputs": [],
      "source": [
        "bow_lr_pred = bow_lr.predict(bow_test.toarray())"
      ],
      "id": "gSkGISPCLORs"
    },
    {
      "cell_type": "code",
      "execution_count": 58,
      "metadata": {
        "colab": {
          "base_uri": "https://localhost:8080/"
        },
        "id": "RFFpWUjWLOcY",
        "outputId": "22ac1792-f901-40f2-bad2-d6c50d9860ae"
      },
      "outputs": [
        {
          "output_type": "execute_result",
          "data": {
            "text/plain": [
              "0.9175"
            ]
          },
          "metadata": {},
          "execution_count": 58
        }
      ],
      "source": [
        "bow_lr.score(bow_test.toarray(), y_test)\n"
      ],
      "id": "RFFpWUjWLOcY"
    },
    {
      "cell_type": "code",
      "execution_count": 59,
      "metadata": {
        "colab": {
          "base_uri": "https://localhost:8080/"
        },
        "id": "8a81lf-HEDQD",
        "outputId": "6d58f96c-40ac-44a1-8ede-7e78ceb95ce9"
      },
      "outputs": [
        {
          "output_type": "stream",
          "name": "stdout",
          "text": [
            "              precision    recall  f1-score   support\n",
            "\n",
            "           0       0.80      0.37      0.51       229\n",
            "           1       0.92      0.99      0.95      1771\n",
            "\n",
            "    accuracy                           0.92      2000\n",
            "   macro avg       0.86      0.68      0.73      2000\n",
            "weighted avg       0.91      0.92      0.90      2000\n",
            "\n"
          ]
        }
      ],
      "source": [
        "from sklearn.metrics import classification_report\n",
        "print(classification_report(y_test, bow_lr_pred))"
      ],
      "id": "8a81lf-HEDQD"
    },
    {
      "cell_type": "code",
      "execution_count": 60,
      "metadata": {
        "id": "ryAD_FJKzp0n"
      },
      "outputs": [],
      "source": [
        "def conf_mat(y_test, y_pred):\n",
        "  cf_matrix = confusion_matrix(y_test, y_pred)\n",
        "\n",
        "  sns.heatmap(cf_matrix/np.sum(cf_matrix), annot=True, fmt='.2%', cmap='pink')\n",
        "  #sns.heatmap(confusion, annot=True, fmt='0.2f', cmap='Blues')\n",
        "\n",
        "  plt.xlabel(\"Predicted\")\n",
        "  plt.ylabel(\"Actual\")\n",
        "  plt.title(\"Confusion Matrix\")\n",
        "  plt.show()"
      ],
      "id": "ryAD_FJKzp0n"
    },
    {
      "cell_type": "code",
      "execution_count": 61,
      "metadata": {
        "colab": {
          "base_uri": "https://localhost:8080/",
          "height": 472
        },
        "id": "C32BxCldzqBV",
        "outputId": "7c1cc130-9f92-4570-8e0f-26126ad4fa3a"
      },
      "outputs": [
        {
          "output_type": "display_data",
          "data": {
            "text/plain": [
              "<Figure size 640x480 with 2 Axes>"
            ],
            "image/png": "[encoded data removed]"
          },
          "metadata": {}
        }
      ],
      "source": [
        "conf_mat(y_test, bow_lr_pred)"
      ],
      "id": "C32BxCldzqBV"
    },
    {
      "cell_type": "markdown",
      "source": [
        "### XGBoost with Bag of Words"
      ],
      "metadata": {
        "id": "4U0cemTul_Js"
      },
      "id": "4U0cemTul_Js"
    },
    {
      "cell_type": "code",
      "execution_count": 62,
      "metadata": {
        "id": "3M1kuaeR3p4s"
      },
      "outputs": [],
      "source": [
        "xgb_bow = XGBClassifier(use_label_encoder=False,\n",
        "                                    n_estimators=140,\n",
        "                                    objective= 'binary:logistic',\n",
        "                                    max_depth=3,\n",
        "                                    min_child_weight=1,\n",
        "                                    subsample=0.8,\n",
        "                                    colsample_bytree=0.8,\n",
        "                                    nthread=4,\n",
        "                                    eval_metric='logloss')\n",
        "\n",
        "xgb_bow.fit(bow_train.toarray(), y_train)\n",
        "xgb_pred = xgb_bow.predict(bow_test.toarray())"
      ],
      "id": "3M1kuaeR3p4s"
    },
    {
      "cell_type": "code",
      "execution_count": 63,
      "metadata": {
        "colab": {
          "base_uri": "https://localhost:8080/",
          "height": 628
        },
        "id": "7n3AZTw14DvW",
        "outputId": "aefa4732-2e7b-4bb1-e062-64bb642a97f3"
      },
      "outputs": [
        {
          "output_type": "display_data",
          "data": {
            "text/plain": [
              "<Figure size 640x480 with 2 Axes>"
            ],
            "image/png": "[encoded data removed]"
          },
          "metadata": {}
        },
        {
          "output_type": "stream",
          "name": "stdout",
          "text": [
            "              precision    recall  f1-score   support\n",
            "\n",
            "           0       0.61      0.44      0.51       229\n",
            "           1       0.93      0.96      0.95      1771\n",
            "\n",
            "    accuracy                           0.90      2000\n",
            "   macro avg       0.77      0.70      0.73      2000\n",
            "weighted avg       0.89      0.90      0.90      2000\n",
            "\n"
          ]
        }
      ],
      "source": [
        "conf_mat(y_test, xgb_pred)\n",
        "print(classification_report(y_test, xgb_pred))"
      ],
      "id": "7n3AZTw14DvW"
    },
    {
      "cell_type": "code",
      "execution_count": 63,
      "metadata": {
        "id": "gsvJ1nDz4D4A"
      },
      "outputs": [],
      "source": [],
      "id": "gsvJ1nDz4D4A"
    },
    {
      "cell_type": "markdown",
      "metadata": {
        "id": "T2OCz51Y8-Ta"
      },
      "source": [
        "## Classifiers based on TF-IDF"
      ],
      "id": "T2OCz51Y8-Ta"
    },
    {
      "cell_type": "code",
      "execution_count": 64,
      "metadata": {
        "id": "caf20ee7",
        "scrolled": false
      },
      "outputs": [],
      "source": [
        "with tf.device('/GPU:0'):\n",
        "  modelTreainer(tfidf_train.toarray(), tfidf_test.toarray())"
      ],
      "id": "caf20ee7"
    },
    {
      "cell_type": "code",
      "execution_count": 65,
      "metadata": {
        "id": "86f6dc46",
        "colab": {
          "base_uri": "https://localhost:8080/"
        },
        "outputId": "2ad29035-c9be-4827-d38e-8c944faf8d91"
      },
      "outputs": [
        {
          "output_type": "execute_result",
          "data": {
            "text/plain": [
              "{'Random Forest': 0.902,\n",
              " 'Logistic regression': 0.908,\n",
              " 'Xgboost': 0.9055,\n",
              " 'KNN': 0.885,\n",
              " 'SVM': 0.8855,\n",
              " 'Naive Bayes': 0.7325}"
            ]
          },
          "metadata": {},
          "execution_count": 65
        }
      ],
      "source": [
        "report"
      ],
      "id": "86f6dc46"
    },
    {
      "cell_type": "code",
      "execution_count": 66,
      "metadata": {
        "id": "f527b765",
        "colab": {
          "base_uri": "https://localhost:8080/",
          "height": 81
        },
        "outputId": "b1fdf168-3fd0-491e-99d4-2c8ae48353ab"
      },
      "outputs": [
        {
          "output_type": "execute_result",
          "data": {
            "text/plain": [
              "   Random Forest  Logistic regression  Xgboost    KNN     SVM  Naive Bayes\n",
              "1          0.902                0.908   0.9055  0.885  0.8855       0.7325"
            ],
            "text/html": [
              "\n",
              "  <div id=\"df-472cb5ee-3e33-4d2a-b39e-8634207dba2c\" class=\"colab-df-container\">\n",
              "    <div>\n",
              "<style scoped>\n",
              "    .dataframe tbody tr th:only-of-type {\n",
              "        vertical-align: middle;\n",
              "    }\n",
              "\n",
              "    .dataframe tbody tr th {\n",
              "        vertical-align: top;\n",
              "    }\n",
              "\n",
              "    .dataframe thead th {\n",
              "        text-align: right;\n",
              "    }\n",
              "</style>\n",
              "<table border=\"1\" class=\"dataframe\">\n",
              "  <thead>\n",
              "    <tr style=\"text-align: right;\">\n",
              "      <th></th>\n",
              "      <th>Random Forest</th>\n",
              "      <th>Logistic regression</th>\n",
              "      <th>Xgboost</th>\n",
              "      <th>KNN</th>\n",
              "      <th>SVM</th>\n",
              "      <th>Naive Bayes</th>\n",
              "    </tr>\n",
              "  </thead>\n",
              "  <tbody>\n",
              "    <tr>\n",
              "      <th>1</th>\n",
              "      <td>0.902</td>\n",
              "      <td>0.908</td>\n",
              "      <td>0.9055</td>\n",
              "      <td>0.885</td>\n",
              "      <td>0.8855</td>\n",
              "      <td>0.7325</td>\n",
              "    </tr>\n",
              "  </tbody>\n",
              "</table>\n",
              "</div>\n",
              "    <div class=\"colab-df-buttons\">\n",
              "\n",
              "  <div class=\"colab-df-container\">\n",
              "    <button class=\"colab-df-convert\" onclick=\"convertToInteractive('df-472cb5ee-3e33-4d2a-b39e-8634207dba2c')\"\n",
              "            title=\"Convert this dataframe to an interactive table.\"\n",
              "            style=\"display:none;\">\n",
              "\n",
              "  <svg xmlns=\"http://www.w3.org/2000/svg\" height=\"24px\" viewBox=\"0 -960 960 960\">\n",
              "    <path d=\"M120-120v-720h720v720H120Zm60-500h600v-160H180v160Zm220 220h160v-160H400v160Zm0 220h160v-160H400v160ZM180-400h160v-160H180v160Zm440 0h160v-160H620v160ZM180-180h160v-160H180v160Zm440 0h160v-160H620v160Z\"/>\n",
              "  </svg>\n",
              "    </button>\n",
              "\n",
              "  <style>\n",
              "    .colab-df-container {\n",
              "      display:flex;\n",
              "      gap: 12px;\n",
              "    }\n",
              "\n",
              "    .colab-df-convert {\n",
              "      background-color: #E8F0FE;\n",
              "      border: none;\n",
              "      border-radius: 50%;\n",
              "      cursor: pointer;\n",
              "      display: none;\n",
              "      fill: #1967D2;\n",
              "      height: 32px;\n",
              "      padding: 0 0 0 0;\n",
              "      width: 32px;\n",
              "    }\n",
              "\n",
              "    .colab-df-convert:hover {\n",
              "      background-color: #E2EBFA;\n",
              "      box-shadow: 0px 1px 2px rgba(60, 64, 67, 0.3), 0px 1px 3px 1px rgba(60, 64, 67, 0.15);\n",
              "      fill: #174EA6;\n",
              "    }\n",
              "\n",
              "    .colab-df-buttons div {\n",
              "      margin-bottom: 4px;\n",
              "    }\n",
              "\n",
              "    [theme=dark] .colab-df-convert {\n",
              "      background-color: #3B4455;\n",
              "      fill: #D2E3FC;\n",
              "    }\n",
              "\n",
              "    [theme=dark] .colab-df-convert:hover {\n",
              "      background-color: #434B5C;\n",
              "      box-shadow: 0px 1px 3px 1px rgba(0, 0, 0, 0.15);\n",
              "      filter: drop-shadow(0px 1px 2px rgba(0, 0, 0, 0.3));\n",
              "      fill: #FFFFFF;\n",
              "    }\n",
              "  </style>\n",
              "\n",
              "    <script>\n",
              "      const buttonEl =\n",
              "        document.querySelector('#df-472cb5ee-3e33-4d2a-b39e-8634207dba2c button.colab-df-convert');\n",
              "      buttonEl.style.display =\n",
              "        google.colab.kernel.accessAllowed ? 'block' : 'none';\n",
              "\n",
              "      async function convertToInteractive(key) {\n",
              "        const element = document.querySelector('#df-472cb5ee-3e33-4d2a-b39e-8634207dba2c');\n",
              "        const dataTable =\n",
              "          await google.colab.kernel.invokeFunction('convertToInteractive',\n",
              "                                                    [key], {});\n",
              "        if (!dataTable) return;\n",
              "\n",
              "        const docLinkHtml = 'Like what you see? Visit the ' +\n",
              "          '<a target=\"_blank\" href=https://colab.research.google.com/notebooks/data_table.ipynb>data table notebook</a>'\n",
              "          + ' to learn more about interactive tables.';\n",
              "        element.innerHTML = '';\n",
              "        dataTable['output_type'] = 'display_data';\n",
              "        await google.colab.output.renderOutput(dataTable, element);\n",
              "        const docLink = document.createElement('div');\n",
              "        docLink.innerHTML = docLinkHtml;\n",
              "        element.appendChild(docLink);\n",
              "      }\n",
              "    </script>\n",
              "  </div>\n",
              "\n",
              "    </div>\n",
              "  </div>\n"
            ]
          },
          "metadata": {},
          "execution_count": 66
        }
      ],
      "source": [
        "pd.DataFrame(report, index=[1])"
      ],
      "id": "f527b765"
    },
    {
      "cell_type": "code",
      "execution_count": 67,
      "metadata": {
        "id": "1d4b6d69",
        "colab": {
          "base_uri": "https://localhost:8080/"
        },
        "outputId": "ed71f8ed-7ebc-41c8-faa4-7bf92e4568f1"
      },
      "outputs": [
        {
          "output_type": "execute_result",
          "data": {
            "text/plain": [
              "{'Random Forest': {'max_features': 'sqrt', 'n_estimators': 16},\n",
              " 'Logistic regression': {'C': 0.01, 'solver': 'newton-cg'},\n",
              " 'Xgboost': {'max_depth': 5, 'min_child_weight': 1},\n",
              " 'KNN': {'n_neighbors': 5},\n",
              " 'SVM': {'C': 1, 'gamma': 1},\n",
              " 'Naive Bayes': {'var_smoothing': 1e-09}}"
            ]
          },
          "metadata": {},
          "execution_count": 67
        }
      ],
      "source": [
        "best_para"
      ],
      "id": "1d4b6d69"
    },
    {
      "cell_type": "markdown",
      "source": [
        "### Random forest with best parameters"
      ],
      "metadata": {
        "id": "Zw_6SI8nmIAP"
      },
      "id": "Zw_6SI8nmIAP"
    },
    {
      "cell_type": "code",
      "execution_count": 68,
      "metadata": {
        "id": "69968227"
      },
      "outputs": [],
      "source": [
        "rf_tfidf = RandomForestClassifier(max_features = 'sqrt', n_estimators = 32)\n",
        "rf_tfidf.fit(tfidf_train.toarray(), y_train)\n",
        "rf_tfidf_pred = rf_tfidf.predict(tfidf_test.toarray())"
      ],
      "id": "69968227"
    },
    {
      "cell_type": "code",
      "execution_count": 69,
      "metadata": {
        "id": "k2BTPDPU6CHE",
        "colab": {
          "base_uri": "https://localhost:8080/",
          "height": 628
        },
        "outputId": "8a728985-d58d-4e53-b8dc-8cc0c937b8ab"
      },
      "outputs": [
        {
          "output_type": "display_data",
          "data": {
            "text/plain": [
              "<Figure size 640x480 with 2 Axes>"
            ],
            "image/png": "[encoded data removed]"
          },
          "metadata": {}
        },
        {
          "output_type": "stream",
          "name": "stdout",
          "text": [
            "              precision    recall  f1-score   support\n",
            "\n",
            "           0       0.77      0.21      0.32       229\n",
            "           1       0.91      0.99      0.95      1771\n",
            "\n",
            "    accuracy                           0.90      2000\n",
            "   macro avg       0.84      0.60      0.64      2000\n",
            "weighted avg       0.89      0.90      0.88      2000\n",
            "\n"
          ]
        }
      ],
      "source": [
        "conf_mat(y_test, rf_tfidf_pred)\n",
        "print(classification_report(y_test, rf_tfidf_pred))"
      ],
      "id": "k2BTPDPU6CHE"
    },
    {
      "cell_type": "markdown",
      "source": [
        "### Logistic Regression with best Parameters"
      ],
      "metadata": {
        "id": "PAUceV6omNmu"
      },
      "id": "PAUceV6omNmu"
    },
    {
      "cell_type": "code",
      "execution_count": 70,
      "metadata": {
        "id": "Bc0z7fMc6CQP",
        "colab": {
          "base_uri": "https://localhost:8080/",
          "height": 628
        },
        "outputId": "627ad1bb-4b90-4948-b87a-fcf1fa1597d4"
      },
      "outputs": [
        {
          "output_type": "display_data",
          "data": {
            "text/plain": [
              "<Figure size 640x480 with 2 Axes>"
            ],
            "image/png": "[encoded data removed]"
          },
          "metadata": {}
        },
        {
          "output_type": "stream",
          "name": "stdout",
          "text": [
            "              precision    recall  f1-score   support\n",
            "\n",
            "           0       0.65      0.42      0.51       229\n",
            "           1       0.93      0.97      0.95      1771\n",
            "\n",
            "    accuracy                           0.91      2000\n",
            "   macro avg       0.79      0.70      0.73      2000\n",
            "weighted avg       0.90      0.91      0.90      2000\n",
            "\n"
          ]
        }
      ],
      "source": [
        "lr_tfidf = LogisticRegression(penalty ='l2', max_iter=1000, C = 0.01, solver = 'newton-cg')\n",
        "lr_tfidf.fit(tfidf_train.toarray(), y_train)\n",
        "\n",
        "lr_tfidf_pred = lr_tfidf.predict(tfidf_test.toarray())\n",
        "conf_mat(y_test, lr_tfidf_pred)\n",
        "print(classification_report(y_test, lr_tfidf_pred))"
      ],
      "id": "Bc0z7fMc6CQP"
    },
    {
      "cell_type": "code",
      "source": [],
      "metadata": {
        "id": "n0Rl9-GzmTzL"
      },
      "id": "n0Rl9-GzmTzL",
      "execution_count": null,
      "outputs": []
    },
    {
      "cell_type": "markdown",
      "source": [
        "### XGBoost with best Parameters"
      ],
      "metadata": {
        "id": "sfE6bs8tmU-s"
      },
      "id": "sfE6bs8tmU-s"
    },
    {
      "cell_type": "code",
      "execution_count": 71,
      "metadata": {
        "id": "q0ln-lgA7pHz",
        "colab": {
          "base_uri": "https://localhost:8080/",
          "height": 628
        },
        "outputId": "2b562725-3d75-4c68-a8c3-0bf6869258fc"
      },
      "outputs": [
        {
          "output_type": "display_data",
          "data": {
            "text/plain": [
              "<Figure size 640x480 with 2 Axes>"
            ],
            "image/png": "[encoded data removed]"
          },
          "metadata": {}
        },
        {
          "output_type": "stream",
          "name": "stdout",
          "text": [
            "              precision    recall  f1-score   support\n",
            "\n",
            "           0       0.70      0.31      0.43       229\n",
            "           1       0.92      0.98      0.95      1771\n",
            "\n",
            "    accuracy                           0.91      2000\n",
            "   macro avg       0.81      0.65      0.69      2000\n",
            "weighted avg       0.89      0.91      0.89      2000\n",
            "\n"
          ]
        }
      ],
      "source": [
        "xgb_tfidf = XGBClassifier(use_label_encoder=False,\n",
        "                                    n_estimators=140,\n",
        "                                    objective= 'binary:logistic',\n",
        "                                    max_depth=5,\n",
        "                                    min_child_weight=1,\n",
        "                                    subsample=0.8,\n",
        "                                    colsample_bytree=0.8,\n",
        "                                    nthread=4,\n",
        "                                    eval_metric='logloss')\n",
        "xgb_tfidf.fit(tfidf_train.toarray(), y_train)\n",
        "\n",
        "xgb_tfidf_pred = xgb_tfidf.predict(tfidf_test.toarray())\n",
        "conf_mat(y_test, xgb_tfidf_pred)\n",
        "print(classification_report(y_test, xgb_tfidf_pred))"
      ],
      "id": "q0ln-lgA7pHz"
    },
    {
      "cell_type": "code",
      "execution_count": 71,
      "metadata": {
        "id": "kma2SXfm7pSP"
      },
      "outputs": [],
      "source": [],
      "id": "kma2SXfm7pSP"
    },
    {
      "cell_type": "code",
      "execution_count": 71,
      "metadata": {
        "id": "UKbrq00u7pkW"
      },
      "outputs": [],
      "source": [],
      "id": "UKbrq00u7pkW"
    },
    {
      "cell_type": "markdown",
      "metadata": {
        "id": "08651217"
      },
      "source": [
        "## Average word2Vec"
      ],
      "id": "08651217"
    },
    {
      "cell_type": "code",
      "execution_count": 72,
      "metadata": {
        "id": "52a08b8a"
      },
      "outputs": [],
      "source": [
        "x_1, x_test, y_1, y_test = train_test_split(x, y, test_size = 0.15, shuffle=False)\n",
        "x_train, x_cv, y_train, y_cv = train_test_split(x_1, y_1, test_size = 0.15, shuffle=False)"
      ],
      "id": "52a08b8a"
    },
    {
      "cell_type": "code",
      "execution_count": 73,
      "metadata": {
        "id": "c52f2efd"
      },
      "outputs": [],
      "source": [
        "import gensim\n",
        "w2v_train_data = x_train.copy()\n",
        "w2v_test_data = x_test.copy()\n",
        "w2v_cv_data = x_train.copy()"
      ],
      "id": "c52f2efd"
    },
    {
      "cell_type": "code",
      "execution_count": 74,
      "metadata": {
        "id": "6a158b0f",
        "colab": {
          "base_uri": "https://localhost:8080/"
        },
        "outputId": "178b6502-18c1-4c56-d45b-a99320aa37cf"
      },
      "outputs": [
        {
          "output_type": "execute_result",
          "data": {
            "text/plain": [
              "(7225,)"
            ]
          },
          "metadata": {},
          "execution_count": 74
        }
      ],
      "source": [
        "#w2v_train_data.shape\n",
        "w2v_train_data.shape"
      ],
      "id": "6a158b0f"
    },
    {
      "cell_type": "code",
      "execution_count": 75,
      "metadata": {
        "id": "34Uet74xDUr_",
        "colab": {
          "base_uri": "https://localhost:8080/"
        },
        "outputId": "1d5f1a4f-8a19-4740-d2e3-6f45931e9a1c"
      },
      "outputs": [
        {
          "output_type": "stream",
          "name": "stdout",
          "text": [
            "(7225,) (1275,)\n"
          ]
        }
      ],
      "source": [
        "print(y_train.shape, y_cv.shape)"
      ],
      "id": "34Uet74xDUr_"
    },
    {
      "cell_type": "code",
      "execution_count": 75,
      "metadata": {
        "id": "I2aoSkmbDUzv"
      },
      "outputs": [],
      "source": [],
      "id": "I2aoSkmbDUzv"
    },
    {
      "cell_type": "markdown",
      "metadata": {
        "id": "88e8ec33"
      },
      "source": [
        "## AVG Word2Vec"
      ],
      "id": "88e8ec33"
    },
    {
      "cell_type": "code",
      "execution_count": 77,
      "metadata": {
        "id": "e5093b93",
        "colab": {
          "base_uri": "https://localhost:8080/"
        },
        "outputId": "e983e32d-e97f-4bf9-8d08-6f1c0bfcaf29"
      },
      "outputs": [
        {
          "output_type": "stream",
          "name": "stderr",
          "text": [
            "100%|██████████| 7225/7225 [00:06<00:00, 1035.76it/s]\n"
          ]
        }
      ],
      "source": [
        "# For training data\n",
        "i=0\n",
        "sent_list = []\n",
        "for sent in w2v_train_data:\n",
        "    sent_list.append(sent.split())\n",
        "\n",
        "w2v_model = Word2Vec(sent_list, min_count=5, vector_size=50, workers=8)\n",
        "w2v_words = list(w2v_model.wv.index_to_key)\n",
        "\n",
        "train_sent_vect = []\n",
        "for sent in tqdm(sent_list):\n",
        "    sent_vec = np.zeros(50)\n",
        "    cnt_wrd = 0\n",
        "    for word in sent:\n",
        "        if word in w2v_words:\n",
        "            vec = w2v_model.wv[word]\n",
        "            sent_vec += vec\n",
        "            cnt_wrd += 1\n",
        "    if cnt_wrd != 0:\n",
        "      sent_vec /= cnt_wrd\n",
        "    train_sent_vect.append(sent_vec)"
      ],
      "id": "e5093b93"
    },
    {
      "cell_type": "code",
      "execution_count": 78,
      "metadata": {
        "id": "9c67d54f",
        "colab": {
          "base_uri": "https://localhost:8080/"
        },
        "outputId": "42a4a7c9-db54-4649-f0bb-52a334f5ce53"
      },
      "outputs": [
        {
          "output_type": "stream",
          "name": "stdout",
          "text": [
            "[('good', 0.9341784119606018), ('pretti', 0.8286795616149902), ('excel', 0.8229870200157166), ('isnt', 0.8209074139595032), ('that', 0.8124854564666748), ('fantast', 0.7969174981117249), ('puf', 0.7929225564002991), ('healthier', 0.7928289175033569), ('pretzel', 0.7917848825454712), ('overal', 0.7917772531509399)]\n",
            "****************************************************************************************************\n",
            "\n",
            "[('bore', 0.9890450239181519), ('lollipop', 0.9885339140892029), ('serious', 0.988024115562439), ('grew', 0.987969160079956), ('disgust', 0.9870252013206482), ('man', 0.9862127304077148), ('kinda', 0.9853329062461853), ('theyd', 0.9845834374427795), ('aw', 0.9844064712524414), ('neither', 0.9839569926261902)]\n"
          ]
        }
      ],
      "source": [
        "#ram_gt_8gb = True\n",
        "want_google_w2v = True\n",
        "want_train_w2v = True\n",
        "\n",
        "if want_train_w2v:\n",
        "    w2v_model = Word2Vec(sent_list, min_count=5, vector_size=50, workers=8)\n",
        "    print(w2v_model.wv.most_similar('great'))\n",
        "    print('*'*100)\n",
        "    print()\n",
        "    print(w2v_model.wv.most_similar('worst'))\n",
        "\n",
        "elif(want_google_w2v):\n",
        "    if(os.path.isfile('GoogleNews-vectors-negative300.bin')):\n",
        "        w2v_model = KeyedVectors.load_word2vec_format('GoogleNews-vectors-negative300.bin', binary=True)\n",
        "        print(w2v_model.wv.most_similar('great'))\n",
        "        print(w2v_model.wv.most_similar('worst'))\n",
        "    else:\n",
        "        print(\"you don't have gogole's word2vec file, keep want_to_train_w2v = True, to train your own w2v \")\n",
        "\n"
      ],
      "id": "9c67d54f"
    },
    {
      "cell_type": "code",
      "execution_count": 79,
      "metadata": {
        "id": "cb3073bc",
        "colab": {
          "base_uri": "https://localhost:8080/"
        },
        "outputId": "38d8a959-5b1f-46ba-b5b2-6ea373ebe595"
      },
      "outputs": [
        {
          "output_type": "stream",
          "name": "stdout",
          "text": [
            "number of words that occured minimum 5 times =  4285\n",
            "\n",
            "sample words =  ['tea', 'like', 'tast', 'flavor', 'good', 'one', 'use', 'great', 'tri', 'love', 'make', 'product', 'get', 'coffe', 'eat', 'best', 'also', 'time', 'food', 'realli']\n"
          ]
        }
      ],
      "source": [
        "w2v_words = list(w2v_model.wv.index_to_key)\n",
        "print('number of words that occured minimum 5 times = ', len(w2v_words))\n",
        "print('\\nsample words = ',w2v_words[0:20])"
      ],
      "id": "cb3073bc"
    },
    {
      "cell_type": "code",
      "execution_count": 80,
      "metadata": {
        "id": "dbc7e55c",
        "colab": {
          "base_uri": "https://localhost:8080/"
        },
        "outputId": "32c991be-594a-4714-8f36-f5058260f2b7"
      },
      "outputs": [
        {
          "output_type": "stream",
          "name": "stderr",
          "text": [
            "100%|██████████| 7225/7225 [00:06<00:00, 1201.48it/s]\n",
            "100%|██████████| 1500/1500 [00:01<00:00, 1028.80it/s]\n",
            "100%|██████████| 7225/7225 [00:06<00:00, 1119.93it/s]\n"
          ]
        }
      ],
      "source": [
        "sent_list_of_train = []\n",
        "for sent in w2v_train_data:\n",
        "    sent_list_of_train.append(sent.split())\n",
        "\n",
        "w2v_model = Word2Vec(sent_list_of_train, min_count=5, vector_size=50, workers=8)\n",
        "w2v_words = list(w2v_model.wv.index_to_key)\n",
        "\n",
        "train_sent_vect = []\n",
        "for sent in tqdm(sent_list_of_train):\n",
        "    sent_vec = np.zeros(50)\n",
        "    cnt_wrd = 0\n",
        "    for word in sent:\n",
        "        if word in w2v_words:\n",
        "            vec = w2v_model.wv[word]\n",
        "            sent_vec += vec\n",
        "            cnt_wrd += 1\n",
        "    if cnt_wrd != 0:\n",
        "        sent_vec /= cnt_wrd\n",
        "    train_sent_vect.append(sent_vec)\n",
        "\n",
        "\n",
        "\n",
        "#for test data\n",
        "sent_list_of_test = []\n",
        "for sent in w2v_test_data:\n",
        "    sent_list_of_test.append(sent.split())\n",
        "\n",
        "test_sent_vect = []\n",
        "for sent in tqdm(sent_list_of_test):\n",
        "    sent_vec = np.zeros(50)\n",
        "    cnt_wrd = 0\n",
        "    for word in sent:\n",
        "        if word in w2v_words:\n",
        "            vec = w2v_model.wv[word]\n",
        "            sent_vec += vec\n",
        "            cnt_wrd += 1\n",
        "    if cnt_wrd != 0:\n",
        "        sent_vec /= cnt_wrd\n",
        "    test_sent_vect.append(sent_vec)\n",
        "\n",
        "\n",
        "# for cv data\n",
        "sent_list_of_cv = []\n",
        "for sent in w2v_cv_data:\n",
        "    sent_list_of_cv.append(sent.split())\n",
        "\n",
        "cv_sent_vect = []\n",
        "for sent in tqdm(sent_list_of_cv):\n",
        "    sent_vec = np.zeros(50)\n",
        "    cnt_wrd = 0\n",
        "    for word in sent:\n",
        "        if word in w2v_words:\n",
        "            vec = w2v_model.wv[word]\n",
        "            sent_vec += vec\n",
        "            cnt_wrd += 1\n",
        "    if cnt_wrd != 0:\n",
        "        sent_vec /= cnt_wrd\n",
        "    cv_sent_vect.append(sent_vec)\n"
      ],
      "id": "dbc7e55c"
    },
    {
      "cell_type": "code",
      "execution_count": 81,
      "metadata": {
        "id": "2f107f37"
      },
      "outputs": [],
      "source": [
        "x_train_w2v=train_sent_vect\n",
        "x_cv_w2v=cv_sent_vect\n",
        "x_test_w2v=test_sent_vect"
      ],
      "id": "2f107f37"
    },
    {
      "cell_type": "code",
      "execution_count": 82,
      "metadata": {
        "id": "27e2912f"
      },
      "outputs": [],
      "source": [
        "import tensorflow as tf\n",
        "with tf.device('/GPU:0'):\n",
        "  modelTreainer(x_train_w2v, x_test_w2v)"
      ],
      "id": "27e2912f"
    },
    {
      "cell_type": "code",
      "execution_count": 83,
      "metadata": {
        "id": "0dded754",
        "colab": {
          "base_uri": "https://localhost:8080/",
          "height": 81
        },
        "outputId": "e6e4329b-db00-4c3b-ef85-68ed9fd6b007"
      },
      "outputs": [
        {
          "output_type": "execute_result",
          "data": {
            "text/plain": [
              "   Random Forest  Logistic regression   Xgboost       KNN       SVM  \\\n",
              "1       0.875333             0.877333  0.873333  0.874667  0.877333   \n",
              "\n",
              "   Naive Bayes  \n",
              "1     0.782667  "
            ],
            "text/html": [
              "\n",
              "  <div id=\"df-b91e3a24-9d3b-49bd-bf64-e032f46221e2\" class=\"colab-df-container\">\n",
              "    <div>\n",
              "<style scoped>\n",
              "    .dataframe tbody tr th:only-of-type {\n",
              "        vertical-align: middle;\n",
              "    }\n",
              "\n",
              "    .dataframe tbody tr th {\n",
              "        vertical-align: top;\n",
              "    }\n",
              "\n",
              "    .dataframe thead th {\n",
              "        text-align: right;\n",
              "    }\n",
              "</style>\n",
              "<table border=\"1\" class=\"dataframe\">\n",
              "  <thead>\n",
              "    <tr style=\"text-align: right;\">\n",
              "      <th></th>\n",
              "      <th>Random Forest</th>\n",
              "      <th>Logistic regression</th>\n",
              "      <th>Xgboost</th>\n",
              "      <th>KNN</th>\n",
              "      <th>SVM</th>\n",
              "      <th>Naive Bayes</th>\n",
              "    </tr>\n",
              "  </thead>\n",
              "  <tbody>\n",
              "    <tr>\n",
              "      <th>1</th>\n",
              "      <td>0.875333</td>\n",
              "      <td>0.877333</td>\n",
              "      <td>0.873333</td>\n",
              "      <td>0.874667</td>\n",
              "      <td>0.877333</td>\n",
              "      <td>0.782667</td>\n",
              "    </tr>\n",
              "  </tbody>\n",
              "</table>\n",
              "</div>\n",
              "    <div class=\"colab-df-buttons\">\n",
              "\n",
              "  <div class=\"colab-df-container\">\n",
              "    <button class=\"colab-df-convert\" onclick=\"convertToInteractive('df-b91e3a24-9d3b-49bd-bf64-e032f46221e2')\"\n",
              "            title=\"Convert this dataframe to an interactive table.\"\n",
              "            style=\"display:none;\">\n",
              "\n",
              "  <svg xmlns=\"http://www.w3.org/2000/svg\" height=\"24px\" viewBox=\"0 -960 960 960\">\n",
              "    <path d=\"M120-120v-720h720v720H120Zm60-500h600v-160H180v160Zm220 220h160v-160H400v160Zm0 220h160v-160H400v160ZM180-400h160v-160H180v160Zm440 0h160v-160H620v160ZM180-180h160v-160H180v160Zm440 0h160v-160H620v160Z\"/>\n",
              "  </svg>\n",
              "    </button>\n",
              "\n",
              "  <style>\n",
              "    .colab-df-container {\n",
              "      display:flex;\n",
              "      gap: 12px;\n",
              "    }\n",
              "\n",
              "    .colab-df-convert {\n",
              "      background-color: #E8F0FE;\n",
              "      border: none;\n",
              "      border-radius: 50%;\n",
              "      cursor: pointer;\n",
              "      display: none;\n",
              "      fill: #1967D2;\n",
              "      height: 32px;\n",
              "      padding: 0 0 0 0;\n",
              "      width: 32px;\n",
              "    }\n",
              "\n",
              "    .colab-df-convert:hover {\n",
              "      background-color: #E2EBFA;\n",
              "      box-shadow: 0px 1px 2px rgba(60, 64, 67, 0.3), 0px 1px 3px 1px rgba(60, 64, 67, 0.15);\n",
              "      fill: #174EA6;\n",
              "    }\n",
              "\n",
              "    .colab-df-buttons div {\n",
              "      margin-bottom: 4px;\n",
              "    }\n",
              "\n",
              "    [theme=dark] .colab-df-convert {\n",
              "      background-color: #3B4455;\n",
              "      fill: #D2E3FC;\n",
              "    }\n",
              "\n",
              "    [theme=dark] .colab-df-convert:hover {\n",
              "      background-color: #434B5C;\n",
              "      box-shadow: 0px 1px 3px 1px rgba(0, 0, 0, 0.15);\n",
              "      filter: drop-shadow(0px 1px 2px rgba(0, 0, 0, 0.3));\n",
              "      fill: #FFFFFF;\n",
              "    }\n",
              "  </style>\n",
              "\n",
              "    <script>\n",
              "      const buttonEl =\n",
              "        document.querySelector('#df-b91e3a24-9d3b-49bd-bf64-e032f46221e2 button.colab-df-convert');\n",
              "      buttonEl.style.display =\n",
              "        google.colab.kernel.accessAllowed ? 'block' : 'none';\n",
              "\n",
              "      async function convertToInteractive(key) {\n",
              "        const element = document.querySelector('#df-b91e3a24-9d3b-49bd-bf64-e032f46221e2');\n",
              "        const dataTable =\n",
              "          await google.colab.kernel.invokeFunction('convertToInteractive',\n",
              "                                                    [key], {});\n",
              "        if (!dataTable) return;\n",
              "\n",
              "        const docLinkHtml = 'Like what you see? Visit the ' +\n",
              "          '<a target=\"_blank\" href=https://colab.research.google.com/notebooks/data_table.ipynb>data table notebook</a>'\n",
              "          + ' to learn more about interactive tables.';\n",
              "        element.innerHTML = '';\n",
              "        dataTable['output_type'] = 'display_data';\n",
              "        await google.colab.output.renderOutput(dataTable, element);\n",
              "        const docLink = document.createElement('div');\n",
              "        docLink.innerHTML = docLinkHtml;\n",
              "        element.appendChild(docLink);\n",
              "      }\n",
              "    </script>\n",
              "  </div>\n",
              "\n",
              "    </div>\n",
              "  </div>\n"
            ]
          },
          "metadata": {},
          "execution_count": 83
        }
      ],
      "source": [
        "pd.DataFrame(report, index=[1])"
      ],
      "id": "0dded754"
    },
    {
      "cell_type": "code",
      "execution_count": 84,
      "metadata": {
        "id": "2c9517b5",
        "colab": {
          "base_uri": "https://localhost:8080/"
        },
        "outputId": "49ff8f42-c500-4715-f9f0-c84f85f48536"
      },
      "outputs": [
        {
          "output_type": "execute_result",
          "data": {
            "text/plain": [
              "{'Random Forest': 0.8753333333333333,\n",
              " 'Logistic regression': 0.8773333333333333,\n",
              " 'Xgboost': 0.8733333333333333,\n",
              " 'KNN': 0.8746666666666667,\n",
              " 'SVM': 0.8773333333333333,\n",
              " 'Naive Bayes': 0.7826666666666666}"
            ]
          },
          "metadata": {},
          "execution_count": 84
        }
      ],
      "source": [
        "report"
      ],
      "id": "2c9517b5"
    },
    {
      "cell_type": "code",
      "execution_count": 84,
      "metadata": {
        "id": "d6e81789"
      },
      "outputs": [],
      "source": [],
      "id": "d6e81789"
    },
    {
      "cell_type": "markdown",
      "metadata": {
        "id": "cf3a53dc"
      },
      "source": [
        "## TFIDF W2V"
      ],
      "id": "cf3a53dc"
    },
    {
      "cell_type": "code",
      "execution_count": 85,
      "metadata": {
        "id": "660026f7",
        "colab": {
          "base_uri": "https://localhost:8080/"
        },
        "outputId": "a7b06830-b651-4638-d244-24277aff9074"
      },
      "outputs": [
        {
          "output_type": "stream",
          "name": "stderr",
          "text": [
            "100%|██████████| 7225/7225 [00:55<00:00, 130.44it/s]\n",
            "100%|██████████| 1500/1500 [00:07<00:00, 194.37it/s]\n",
            "100%|██████████| 7225/7225 [00:54<00:00, 132.94it/s]\n"
          ]
        }
      ],
      "source": [
        "sent_list_of_train = []\n",
        "for sent in w2v_train_data:\n",
        "    sent_list_of_train.append(sent.split())\n",
        "\n",
        "w2v_model = Word2Vec(sent_list, min_count=5, vector_size=50, workers=8)\n",
        "w2v_words = list(w2v_model.wv.index_to_key)\n",
        "\n",
        "tf_idf_vect = TfidfVectorizer(ngram_range=(1,2),min_df=10, max_features=5000)\n",
        "\n",
        "tf_idf_matrix=tf_idf_vect.fit_transform(x_train)\n",
        "\n",
        "\n",
        "tfidf_feat = tf_idf_vect.get_feature_names_out()\n",
        "dictionary = dict(zip(tf_idf_vect.get_feature_names_out(), list(tf_idf_vect.idf_)))\n",
        "\n",
        "train_tfidf_sent_vect = []\n",
        "row = 0\n",
        "for sent in tqdm(sent_list_of_train):\n",
        "    sent_vec = np.zeros(50)\n",
        "    weight_sum = 0\n",
        "    for word in sent:\n",
        "        if word in w2v_words and word in tfidf_feat:\n",
        "            vec = w2v_model.wv[word]\n",
        "            tf_idf = dictionary[word]*(sent.count(word)/len(sent))\n",
        "            sent_vec += vec*tf_idf\n",
        "            weight_sum += tf_idf\n",
        "    if weight_sum != 0:\n",
        "        sent_vec /= weight_sum\n",
        "    train_tfidf_sent_vect.append(sent_vec)\n",
        "    row += 1\n",
        "\n",
        "\n",
        "\n",
        "#for test data\n",
        "sent_list_of_test = []\n",
        "for sent in w2v_test_data:\n",
        "    sent_list_of_test.append(sent.split())\n",
        "\n",
        "test_tfidf_sent_vect = []\n",
        "row = 0\n",
        "for sent in tqdm(sent_list_of_test):\n",
        "    sent_vec = np.zeros(50)\n",
        "    weight_sum = 0\n",
        "    for word in sent:\n",
        "        if word in w2v_words and word in tfidf_feat:\n",
        "            vec = w2v_model.wv[word]\n",
        "            tf_idf = dictionary[word]*(sent.count(word)/len(sent))\n",
        "            sent_vec += vec*tf_idf\n",
        "            weight_sum += tf_idf\n",
        "    if weight_sum != 0:\n",
        "        sent_vec /= weight_sum\n",
        "    test_tfidf_sent_vect.append(sent_vec)\n",
        "    row += 1\n",
        "\n",
        "\n",
        "# for cv data\n",
        "sent_list_of_cv = []\n",
        "for sent in w2v_cv_data:\n",
        "    sent_list_of_cv.append(sent.split())\n",
        "\n",
        "cv_tfidf_sent_vect = []\n",
        "row = 0\n",
        "for sent in tqdm(sent_list_of_cv):\n",
        "    sent_vec = np.zeros(50)\n",
        "    weight_sum = 0\n",
        "    for word in sent:\n",
        "        if word in w2v_words and word in tfidf_feat:\n",
        "            vec = w2v_model.wv[word]\n",
        "            tf_idf = dictionary[word]*(sent.count(word)/len(sent))\n",
        "            sent_vec += vec*tf_idf\n",
        "            weight_sum += tf_idf\n",
        "    if weight_sum != 0:\n",
        "        sent_vec /= weight_sum\n",
        "    cv_tfidf_sent_vect.append(sent_vec)\n",
        "    row += 1"
      ],
      "id": "660026f7"
    },
    {
      "cell_type": "code",
      "execution_count": 86,
      "metadata": {
        "id": "4de0bee7"
      },
      "outputs": [],
      "source": [
        "x_train_tfidf_w2v=train_tfidf_sent_vect\n",
        "x_cv_tfidf_w2v=cv_tfidf_sent_vect\n",
        "x_test_tfidf_w2v=test_tfidf_sent_vect"
      ],
      "id": "4de0bee7"
    },
    {
      "cell_type": "code",
      "execution_count": 87,
      "metadata": {
        "id": "eba2c670"
      },
      "outputs": [],
      "source": [
        "with tf.device('/GPU:0'):\n",
        "  modelTreainer(x_train_tfidf_w2v, x_test_tfidf_w2v)"
      ],
      "id": "eba2c670"
    },
    {
      "cell_type": "code",
      "execution_count": 88,
      "metadata": {
        "id": "263ec458",
        "colab": {
          "base_uri": "https://localhost:8080/",
          "height": 81
        },
        "outputId": "c0021313-0d9f-4165-9a43-3e7e69b0269a"
      },
      "outputs": [
        {
          "output_type": "execute_result",
          "data": {
            "text/plain": [
              "   Random Forest  Logistic regression   Xgboost       KNN       SVM  \\\n",
              "1       0.876667             0.877333  0.869333  0.873333  0.877333   \n",
              "\n",
              "   Naive Bayes  \n",
              "1        0.776  "
            ],
            "text/html": [
              "\n",
              "  <div id=\"df-4feb2796-c5f8-4598-b486-eac7c99ac9f6\" class=\"colab-df-container\">\n",
              "    <div>\n",
              "<style scoped>\n",
              "    .dataframe tbody tr th:only-of-type {\n",
              "        vertical-align: middle;\n",
              "    }\n",
              "\n",
              "    .dataframe tbody tr th {\n",
              "        vertical-align: top;\n",
              "    }\n",
              "\n",
              "    .dataframe thead th {\n",
              "        text-align: right;\n",
              "    }\n",
              "</style>\n",
              "<table border=\"1\" class=\"dataframe\">\n",
              "  <thead>\n",
              "    <tr style=\"text-align: right;\">\n",
              "      <th></th>\n",
              "      <th>Random Forest</th>\n",
              "      <th>Logistic regression</th>\n",
              "      <th>Xgboost</th>\n",
              "      <th>KNN</th>\n",
              "      <th>SVM</th>\n",
              "      <th>Naive Bayes</th>\n",
              "    </tr>\n",
              "  </thead>\n",
              "  <tbody>\n",
              "    <tr>\n",
              "      <th>1</th>\n",
              "      <td>0.876667</td>\n",
              "      <td>0.877333</td>\n",
              "      <td>0.869333</td>\n",
              "      <td>0.873333</td>\n",
              "      <td>0.877333</td>\n",
              "      <td>0.776</td>\n",
              "    </tr>\n",
              "  </tbody>\n",
              "</table>\n",
              "</div>\n",
              "    <div class=\"colab-df-buttons\">\n",
              "\n",
              "  <div class=\"colab-df-container\">\n",
              "    <button class=\"colab-df-convert\" onclick=\"convertToInteractive('df-4feb2796-c5f8-4598-b486-eac7c99ac9f6')\"\n",
              "            title=\"Convert this dataframe to an interactive table.\"\n",
              "            style=\"display:none;\">\n",
              "\n",
              "  <svg xmlns=\"http://www.w3.org/2000/svg\" height=\"24px\" viewBox=\"0 -960 960 960\">\n",
              "    <path d=\"M120-120v-720h720v720H120Zm60-500h600v-160H180v160Zm220 220h160v-160H400v160Zm0 220h160v-160H400v160ZM180-400h160v-160H180v160Zm440 0h160v-160H620v160ZM180-180h160v-160H180v160Zm440 0h160v-160H620v160Z\"/>\n",
              "  </svg>\n",
              "    </button>\n",
              "\n",
              "  <style>\n",
              "    .colab-df-container {\n",
              "      display:flex;\n",
              "      gap: 12px;\n",
              "    }\n",
              "\n",
              "    .colab-df-convert {\n",
              "      background-color: #E8F0FE;\n",
              "      border: none;\n",
              "      border-radius: 50%;\n",
              "      cursor: pointer;\n",
              "      display: none;\n",
              "      fill: #1967D2;\n",
              "      height: 32px;\n",
              "      padding: 0 0 0 0;\n",
              "      width: 32px;\n",
              "    }\n",
              "\n",
              "    .colab-df-convert:hover {\n",
              "      background-color: #E2EBFA;\n",
              "      box-shadow: 0px 1px 2px rgba(60, 64, 67, 0.3), 0px 1px 3px 1px rgba(60, 64, 67, 0.15);\n",
              "      fill: #174EA6;\n",
              "    }\n",
              "\n",
              "    .colab-df-buttons div {\n",
              "      margin-bottom: 4px;\n",
              "    }\n",
              "\n",
              "    [theme=dark] .colab-df-convert {\n",
              "      background-color: #3B4455;\n",
              "      fill: #D2E3FC;\n",
              "    }\n",
              "\n",
              "    [theme=dark] .colab-df-convert:hover {\n",
              "      background-color: #434B5C;\n",
              "      box-shadow: 0px 1px 3px 1px rgba(0, 0, 0, 0.15);\n",
              "      filter: drop-shadow(0px 1px 2px rgba(0, 0, 0, 0.3));\n",
              "      fill: #FFFFFF;\n",
              "    }\n",
              "  </style>\n",
              "\n",
              "    <script>\n",
              "      const buttonEl =\n",
              "        document.querySelector('#df-4feb2796-c5f8-4598-b486-eac7c99ac9f6 button.colab-df-convert');\n",
              "      buttonEl.style.display =\n",
              "        google.colab.kernel.accessAllowed ? 'block' : 'none';\n",
              "\n",
              "      async function convertToInteractive(key) {\n",
              "        const element = document.querySelector('#df-4feb2796-c5f8-4598-b486-eac7c99ac9f6');\n",
              "        const dataTable =\n",
              "          await google.colab.kernel.invokeFunction('convertToInteractive',\n",
              "                                                    [key], {});\n",
              "        if (!dataTable) return;\n",
              "\n",
              "        const docLinkHtml = 'Like what you see? Visit the ' +\n",
              "          '<a target=\"_blank\" href=https://colab.research.google.com/notebooks/data_table.ipynb>data table notebook</a>'\n",
              "          + ' to learn more about interactive tables.';\n",
              "        element.innerHTML = '';\n",
              "        dataTable['output_type'] = 'display_data';\n",
              "        await google.colab.output.renderOutput(dataTable, element);\n",
              "        const docLink = document.createElement('div');\n",
              "        docLink.innerHTML = docLinkHtml;\n",
              "        element.appendChild(docLink);\n",
              "      }\n",
              "    </script>\n",
              "  </div>\n",
              "\n",
              "    </div>\n",
              "  </div>\n"
            ]
          },
          "metadata": {},
          "execution_count": 88
        }
      ],
      "source": [
        "pd.DataFrame(report, index=[1])"
      ],
      "id": "263ec458"
    },
    {
      "cell_type": "code",
      "execution_count": 89,
      "metadata": {
        "id": "40bcbe28",
        "colab": {
          "base_uri": "https://localhost:8080/"
        },
        "outputId": "fceb2592-4e2e-4581-a011-64be5e5e106d"
      },
      "outputs": [
        {
          "output_type": "execute_result",
          "data": {
            "text/plain": [
              "{'Random Forest': 0.8766666666666667,\n",
              " 'Logistic regression': 0.8773333333333333,\n",
              " 'Xgboost': 0.8693333333333333,\n",
              " 'KNN': 0.8733333333333333,\n",
              " 'SVM': 0.8773333333333333,\n",
              " 'Naive Bayes': 0.776}"
            ]
          },
          "metadata": {},
          "execution_count": 89
        }
      ],
      "source": [
        "report"
      ],
      "id": "40bcbe28"
    },
    {
      "cell_type": "code",
      "execution_count": 89,
      "metadata": {
        "id": "c61555c1"
      },
      "outputs": [],
      "source": [],
      "id": "c61555c1"
    },
    {
      "cell_type": "markdown",
      "metadata": {
        "id": "3Xyx0W8MdK7a"
      },
      "source": [
        "# LSTM"
      ],
      "id": "3Xyx0W8MdK7a"
    },
    {
      "cell_type": "code",
      "execution_count": 90,
      "metadata": {
        "id": "DyBpvNe1FgI3",
        "colab": {
          "base_uri": "https://localhost:8080/"
        },
        "outputId": "2781aef1-5167-442c-cb72-cba024a167c7"
      },
      "outputs": [
        {
          "output_type": "stream",
          "name": "stdout",
          "text": [
            "Requirement already satisfied: tensorflow in /usr/local/lib/python3.10/dist-packages (2.14.0)\n",
            "Requirement already satisfied: absl-py>=1.0.0 in /usr/local/lib/python3.10/dist-packages (from tensorflow) (1.4.0)\n",
            "Requirement already satisfied: astunparse>=1.6.0 in /usr/local/lib/python3.10/dist-packages (from tensorflow) (1.6.3)\n",
            "Requirement already satisfied: flatbuffers>=23.5.26 in /usr/local/lib/python3.10/dist-packages (from tensorflow) (23.5.26)\n",
            "Requirement already satisfied: gast!=0.5.0,!=0.5.1,!=0.5.2,>=0.2.1 in /usr/local/lib/python3.10/dist-packages (from tensorflow) (0.5.4)\n",
            "Requirement already satisfied: google-pasta>=0.1.1 in /usr/local/lib/python3.10/dist-packages (from tensorflow) (0.2.0)\n",
            "Requirement already satisfied: h5py>=2.9.0 in /usr/local/lib/python3.10/dist-packages (from tensorflow) (3.9.0)\n",
            "Requirement already satisfied: libclang>=13.0.0 in /usr/local/lib/python3.10/dist-packages (from tensorflow) (16.0.6)\n",
            "Requirement already satisfied: ml-dtypes==0.2.0 in /usr/local/lib/python3.10/dist-packages (from tensorflow) (0.2.0)\n",
            "Requirement already satisfied: numpy>=1.23.5 in /usr/local/lib/python3.10/dist-packages (from tensorflow) (1.23.5)\n",
            "Requirement already satisfied: opt-einsum>=2.3.2 in /usr/local/lib/python3.10/dist-packages (from tensorflow) (3.3.0)\n",
            "Requirement already satisfied: packaging in /usr/local/lib/python3.10/dist-packages (from tensorflow) (23.2)\n",
            "Requirement already satisfied: protobuf!=4.21.0,!=4.21.1,!=4.21.2,!=4.21.3,!=4.21.4,!=4.21.5,<5.0.0dev,>=3.20.3 in /usr/local/lib/python3.10/dist-packages (from tensorflow) (3.20.3)\n",
            "Requirement already satisfied: setuptools in /usr/local/lib/python3.10/dist-packages (from tensorflow) (67.7.2)\n",
            "Requirement already satisfied: six>=1.12.0 in /usr/local/lib/python3.10/dist-packages (from tensorflow) (1.16.0)\n",
            "Requirement already satisfied: termcolor>=1.1.0 in /usr/local/lib/python3.10/dist-packages (from tensorflow) (2.3.0)\n",
            "Requirement already satisfied: typing-extensions>=3.6.6 in /usr/local/lib/python3.10/dist-packages (from tensorflow) (4.5.0)\n",
            "Requirement already satisfied: wrapt<1.15,>=1.11.0 in /usr/local/lib/python3.10/dist-packages (from tensorflow) (1.14.1)\n",
            "Requirement already satisfied: tensorflow-io-gcs-filesystem>=0.23.1 in /usr/local/lib/python3.10/dist-packages (from tensorflow) (0.34.0)\n",
            "Requirement already satisfied: grpcio<2.0,>=1.24.3 in /usr/local/lib/python3.10/dist-packages (from tensorflow) (1.59.0)\n",
            "Requirement already satisfied: tensorboard<2.15,>=2.14 in /usr/local/lib/python3.10/dist-packages (from tensorflow) (2.14.1)\n",
            "Requirement already satisfied: tensorflow-estimator<2.15,>=2.14.0 in /usr/local/lib/python3.10/dist-packages (from tensorflow) (2.14.0)\n",
            "Requirement already satisfied: keras<2.15,>=2.14.0 in /usr/local/lib/python3.10/dist-packages (from tensorflow) (2.14.0)\n",
            "Requirement already satisfied: wheel<1.0,>=0.23.0 in /usr/local/lib/python3.10/dist-packages (from astunparse>=1.6.0->tensorflow) (0.41.2)\n",
            "Requirement already satisfied: google-auth<3,>=1.6.3 in /usr/local/lib/python3.10/dist-packages (from tensorboard<2.15,>=2.14->tensorflow) (2.17.3)\n",
            "Requirement already satisfied: google-auth-oauthlib<1.1,>=0.5 in /usr/local/lib/python3.10/dist-packages (from tensorboard<2.15,>=2.14->tensorflow) (1.0.0)\n",
            "Requirement already satisfied: markdown>=2.6.8 in /usr/local/lib/python3.10/dist-packages (from tensorboard<2.15,>=2.14->tensorflow) (3.5)\n",
            "Requirement already satisfied: requests<3,>=2.21.0 in /usr/local/lib/python3.10/dist-packages (from tensorboard<2.15,>=2.14->tensorflow) (2.31.0)\n",
            "Requirement already satisfied: tensorboard-data-server<0.8.0,>=0.7.0 in /usr/local/lib/python3.10/dist-packages (from tensorboard<2.15,>=2.14->tensorflow) (0.7.1)\n",
            "Requirement already satisfied: werkzeug>=1.0.1 in /usr/local/lib/python3.10/dist-packages (from tensorboard<2.15,>=2.14->tensorflow) (3.0.0)\n",
            "Requirement already satisfied: cachetools<6.0,>=2.0.0 in /usr/local/lib/python3.10/dist-packages (from google-auth<3,>=1.6.3->tensorboard<2.15,>=2.14->tensorflow) (5.3.1)\n",
            "Requirement already satisfied: pyasn1-modules>=0.2.1 in /usr/local/lib/python3.10/dist-packages (from google-auth<3,>=1.6.3->tensorboard<2.15,>=2.14->tensorflow) (0.3.0)\n",
            "Requirement already satisfied: rsa<5,>=3.1.4 in /usr/local/lib/python3.10/dist-packages (from google-auth<3,>=1.6.3->tensorboard<2.15,>=2.14->tensorflow) (4.9)\n",
            "Requirement already satisfied: requests-oauthlib>=0.7.0 in /usr/local/lib/python3.10/dist-packages (from google-auth-oauthlib<1.1,>=0.5->tensorboard<2.15,>=2.14->tensorflow) (1.3.1)\n",
            "Requirement already satisfied: charset-normalizer<4,>=2 in /usr/local/lib/python3.10/dist-packages (from requests<3,>=2.21.0->tensorboard<2.15,>=2.14->tensorflow) (3.3.0)\n",
            "Requirement already satisfied: idna<4,>=2.5 in /usr/local/lib/python3.10/dist-packages (from requests<3,>=2.21.0->tensorboard<2.15,>=2.14->tensorflow) (3.4)\n",
            "Requirement already satisfied: urllib3<3,>=1.21.1 in /usr/local/lib/python3.10/dist-packages (from requests<3,>=2.21.0->tensorboard<2.15,>=2.14->tensorflow) (2.0.7)\n",
            "Requirement already satisfied: certifi>=2017.4.17 in /usr/local/lib/python3.10/dist-packages (from requests<3,>=2.21.0->tensorboard<2.15,>=2.14->tensorflow) (2023.7.22)\n",
            "Requirement already satisfied: MarkupSafe>=2.1.1 in /usr/local/lib/python3.10/dist-packages (from werkzeug>=1.0.1->tensorboard<2.15,>=2.14->tensorflow) (2.1.3)\n",
            "Requirement already satisfied: pyasn1<0.6.0,>=0.4.6 in /usr/local/lib/python3.10/dist-packages (from pyasn1-modules>=0.2.1->google-auth<3,>=1.6.3->tensorboard<2.15,>=2.14->tensorflow) (0.5.0)\n",
            "Requirement already satisfied: oauthlib>=3.0.0 in /usr/local/lib/python3.10/dist-packages (from requests-oauthlib>=0.7.0->google-auth-oauthlib<1.1,>=0.5->tensorboard<2.15,>=2.14->tensorflow) (3.2.2)\n"
          ]
        }
      ],
      "source": [
        "!pip install tensorflow"
      ],
      "id": "DyBpvNe1FgI3"
    },
    {
      "cell_type": "code",
      "execution_count": 91,
      "metadata": {
        "id": "1c6320f4"
      },
      "outputs": [],
      "source": [
        "lstm_train = x_train.copy()\n",
        "lstm_test = x_test.copy()"
      ],
      "id": "1c6320f4"
    },
    {
      "cell_type": "code",
      "execution_count": 92,
      "metadata": {
        "colab": {
          "base_uri": "https://localhost:8080/"
        },
        "id": "T3NlWaFM_1V9",
        "outputId": "27b6f374-5c43-4233-d321-a5ad93fa9914"
      },
      "outputs": [
        {
          "output_type": "execute_result",
          "data": {
            "text/plain": [
              "138706    witti littl book make son laugh loud recit car...\n",
              "138683    rememb see show air televis year ago child sis...\n",
              "Name: Cleaned_text, dtype: object"
            ]
          },
          "metadata": {},
          "execution_count": 92
        }
      ],
      "source": [
        "lstm_train[:2]"
      ],
      "id": "T3NlWaFM_1V9"
    },
    {
      "cell_type": "code",
      "execution_count": 93,
      "metadata": {
        "id": "6f8658c6"
      },
      "outputs": [],
      "source": [
        "from tensorflow.keras.preprocessing.text import Tokenizer\n",
        "from tensorflow.keras.preprocessing import sequence\n",
        "from tensorflow.keras.models import Sequential\n",
        "from tensorflow.keras.layers import Dense, LSTM\n",
        "from tensorflow.keras.layers import Embedding, Bidirectional, Dropout, GlobalAveragePooling1D, GRU"
      ],
      "id": "6f8658c6"
    },
    {
      "cell_type": "code",
      "execution_count": 101,
      "metadata": {
        "id": "81dba42e"
      },
      "outputs": [],
      "source": [
        "max_words = 5000\n",
        "max_length = 500\n",
        "oov_tok = '<OOV>'\n",
        "\n",
        "tokenizer = Tokenizer(num_words = max_words,\n",
        "                      oov_token = oov_tok)\n",
        "\n",
        "tokenizer.fit_on_texts(lstm_train)"
      ],
      "id": "81dba42e"
    },
    {
      "cell_type": "code",
      "execution_count": 103,
      "metadata": {
        "id": "g3axNjeTAU_m"
      },
      "outputs": [],
      "source": [
        "# word_idx = tokenizer.word_index\n",
        "# total_word = len(word_index)\n",
        "\n",
        "# total_words"
      ],
      "id": "g3axNjeTAU_m"
    },
    {
      "cell_type": "code",
      "execution_count": 104,
      "metadata": {
        "id": "1puFfr0fdwGx"
      },
      "outputs": [],
      "source": [
        "x_train_lstm = tokenizer.texts_to_sequences(lstm_train)\n",
        "x_test_lstm = tokenizer.texts_to_sequences(lstm_test)"
      ],
      "id": "1puFfr0fdwGx"
    },
    {
      "cell_type": "code",
      "execution_count": 105,
      "metadata": {
        "id": "Ehyf2G2Vdy7a"
      },
      "outputs": [],
      "source": [
        "train_lstm_pad = sequence.pad_sequences(x_train_lstm, padding = 'pre', maxlen=max_length)\n",
        "test_lstm_pad = sequence.pad_sequences(x_test_lstm, padding = 'pre',  maxlen=max_length)\n",
        "\n",
        "train_lstm_pad = np.array(train_lstm_pad).astype('float32')\n",
        "test_lstm_pad = np.array(test_lstm_pad).astype('float32')\n",
        "#np.asarray(y_test).astype('float32').reshape((-1,1))"
      ],
      "id": "Ehyf2G2Vdy7a"
    },
    {
      "cell_type": "code",
      "execution_count": 106,
      "metadata": {
        "colab": {
          "base_uri": "https://localhost:8080/"
        },
        "id": "7OfCUWrVd2Ds",
        "outputId": "ea45a3d5-d058-44b5-9ffe-9a43911d8255"
      },
      "outputs": [
        {
          "output_type": "stream",
          "name": "stdout",
          "text": [
            "(7225, 500)\n"
          ]
        }
      ],
      "source": [
        "print(train_lstm_pad.shape)\n",
        "#print(train_lstm_pad[1])"
      ],
      "id": "7OfCUWrVd2Ds"
    },
    {
      "cell_type": "code",
      "execution_count": 107,
      "metadata": {
        "id": "yhrI2jqwd2OW"
      },
      "outputs": [],
      "source": [
        "def dynamic_plot(x, val_y, tr_y, ax, colors=['b']):\n",
        "    ax.plot(x, val_y, 'b', label = 'Val Loss')\n",
        "    ax.plot(x, tr_y, 'r', label = 'Train Loss')\n",
        "    plt.legend()\n",
        "    plt.grid()\n",
        "    plt.show()\n",
        "\n",
        "final_output = pd.DataFrame(columns=['Model', 'Archetecture', 'Train Loss',\n",
        "                                    'Test Loss', 'Train Acc', 'Test Acc'])"
      ],
      "id": "yhrI2jqwd2OW"
    },
    {
      "cell_type": "code",
      "execution_count": 108,
      "metadata": {
        "colab": {
          "base_uri": "https://localhost:8080/"
        },
        "id": "KD-AUYAFJ-aE",
        "outputId": "77df09ea-1e6f-4603-9e18-7511c4eb3d5c"
      },
      "outputs": [
        {
          "output_type": "stream",
          "name": "stdout",
          "text": [
            "Requirement already satisfied: keras_tuner in /usr/local/lib/python3.10/dist-packages (1.4.5)\n",
            "Requirement already satisfied: keras-core in /usr/local/lib/python3.10/dist-packages (from keras_tuner) (0.1.7)\n",
            "Requirement already satisfied: packaging in /usr/local/lib/python3.10/dist-packages (from keras_tuner) (23.2)\n",
            "Requirement already satisfied: requests in /usr/local/lib/python3.10/dist-packages (from keras_tuner) (2.31.0)\n",
            "Requirement already satisfied: kt-legacy in /usr/local/lib/python3.10/dist-packages (from keras_tuner) (1.0.5)\n",
            "Requirement already satisfied: absl-py in /usr/local/lib/python3.10/dist-packages (from keras-core->keras_tuner) (1.4.0)\n",
            "Requirement already satisfied: numpy in /usr/local/lib/python3.10/dist-packages (from keras-core->keras_tuner) (1.23.5)\n",
            "Requirement already satisfied: rich in /usr/local/lib/python3.10/dist-packages (from keras-core->keras_tuner) (13.6.0)\n",
            "Requirement already satisfied: namex in /usr/local/lib/python3.10/dist-packages (from keras-core->keras_tuner) (0.0.7)\n",
            "Requirement already satisfied: h5py in /usr/local/lib/python3.10/dist-packages (from keras-core->keras_tuner) (3.9.0)\n",
            "Requirement already satisfied: dm-tree in /usr/local/lib/python3.10/dist-packages (from keras-core->keras_tuner) (0.1.8)\n",
            "Requirement already satisfied: charset-normalizer<4,>=2 in /usr/local/lib/python3.10/dist-packages (from requests->keras_tuner) (3.3.0)\n",
            "Requirement already satisfied: idna<4,>=2.5 in /usr/local/lib/python3.10/dist-packages (from requests->keras_tuner) (3.4)\n",
            "Requirement already satisfied: urllib3<3,>=1.21.1 in /usr/local/lib/python3.10/dist-packages (from requests->keras_tuner) (2.0.7)\n",
            "Requirement already satisfied: certifi>=2017.4.17 in /usr/local/lib/python3.10/dist-packages (from requests->keras_tuner) (2023.7.22)\n",
            "Requirement already satisfied: markdown-it-py>=2.2.0 in /usr/local/lib/python3.10/dist-packages (from rich->keras-core->keras_tuner) (3.0.0)\n",
            "Requirement already satisfied: pygments<3.0.0,>=2.13.0 in /usr/local/lib/python3.10/dist-packages (from rich->keras-core->keras_tuner) (2.16.1)\n",
            "Requirement already satisfied: mdurl~=0.1 in /usr/local/lib/python3.10/dist-packages (from markdown-it-py>=2.2.0->rich->keras-core->keras_tuner) (0.1.2)\n"
          ]
        }
      ],
      "source": [
        "!pip install keras_tuner"
      ],
      "id": "KD-AUYAFJ-aE"
    },
    {
      "cell_type": "markdown",
      "source": [
        "### Tunning Hyperparameter for LSTM"
      ],
      "metadata": {
        "id": "Wy6UTQi5mj8d"
      },
      "id": "Wy6UTQi5mj8d"
    },
    {
      "cell_type": "code",
      "execution_count": 118,
      "metadata": {
        "id": "NM1goMUVd6WK"
      },
      "outputs": [],
      "source": [
        "\n",
        "def build_model(hp):\n",
        "    model = Sequential()\n",
        "\n",
        "    cnt = 0\n",
        "    for i in range(hp.Int('num_layers_', min_value = 1, max_value = 10)):\n",
        "      if cnt == 0:\n",
        "        #model.add(Embedding(input_dim=max_words, output_dim=hp.Int('embedding_dim', min_value=32, max_value=256, step=32), input_length=max_sequence_length))\n",
        "\n",
        "        model.add(Embedding(input_dim=max_words, output_dim = 500, input_length=max_length))\n",
        "      else:\n",
        "          model.add(\n",
        "\n",
        "                LSTM(units=hp.Int('lstm_units_'+str(i), min_value=1, max_value=10, step=1), return_sequences=True)\n",
        "          )\n",
        "          model.add(\n",
        "              Dropout(rate=hp.Float('dropout_'+str(i), min_value=0.2, max_value=0.5, step=0.1)\n",
        "          ))\n",
        "\n",
        "      cnt += 1\n",
        "\n",
        "    model.add(Dense(1, activation='sigmoid'))\n",
        "\n",
        "    model.compile(optimizer=hp.Choice('optimizer', values=['rmsprop', 'adam', 'nadam', 'adadelta']),\n",
        "                  loss = 'binary_crossentropy',\n",
        "                  metrics=['accuracy'])\n",
        "    return model\n"
      ],
      "id": "NM1goMUVd6WK"
    },
    {
      "cell_type": "code",
      "execution_count": 119,
      "metadata": {
        "id": "vCG7UECqd6hn"
      },
      "outputs": [],
      "source": [
        "import keras_tuner as kt\n",
        "tuner = kt.RandomSearch(\n",
        "    build_model,\n",
        "    objective='val_accuracy',\n",
        "    max_trials = 1,\n",
        "    directory='/content/drive/MyDrive/Sentiment_Analysis/mydir_0',\n",
        "    project_name = 'final'\n",
        ")"
      ],
      "id": "vCG7UECqd6hn"
    },
    {
      "cell_type": "code",
      "execution_count": 120,
      "metadata": {
        "colab": {
          "base_uri": "https://localhost:8080/"
        },
        "id": "hXwIYNagQQUy",
        "outputId": "133a4a0b-1c1c-4db5-8b06-16a6c41c7663"
      },
      "outputs": [
        {
          "output_type": "stream",
          "name": "stdout",
          "text": [
            "(7225, 500) (1500, 500)\n"
          ]
        }
      ],
      "source": [
        "print(train_lstm_pad.shape, test_lstm_pad.shape)\n",
        "y_train = np.asarray(y_train).astype('float32').reshape((-1,1))\n",
        "y_test = np.asarray(y_test).astype('float32').reshape((-1,1))"
      ],
      "id": "hXwIYNagQQUy"
    },
    {
      "cell_type": "code",
      "execution_count": 121,
      "metadata": {
        "colab": {
          "base_uri": "https://localhost:8080/"
        },
        "id": "8lvzKSoSH1zm",
        "outputId": "27754b45-451b-4c88-c8ad-975ef0271356"
      },
      "outputs": [
        {
          "output_type": "stream",
          "name": "stdout",
          "text": [
            "Trial 1 Complete [00h 25m 35s]\n",
            "val_accuracy: 0.8773333430290222\n",
            "\n",
            "Best val_accuracy So Far: 0.8773333430290222\n",
            "Total elapsed time: 00h 25m 35s\n"
          ]
        }
      ],
      "source": [
        "tuner.search(train_lstm_pad, y_train, epochs=5, validation_data=(test_lstm_pad, y_test))"
      ],
      "id": "8lvzKSoSH1zm"
    },
    {
      "cell_type": "code",
      "execution_count": null,
      "metadata": {
        "id": "mofwJVoxr9to"
      },
      "outputs": [],
      "source": [],
      "id": "mofwJVoxr9to"
    },
    {
      "cell_type": "markdown",
      "source": [
        "### Tuning hyperparameter for GRU"
      ],
      "metadata": {
        "id": "YjojsuVkmzGF"
      },
      "id": "YjojsuVkmzGF"
    },
    {
      "cell_type": "code",
      "execution_count": 122,
      "metadata": {
        "id": "ZwLFgKdhr9yO"
      },
      "outputs": [],
      "source": [
        "from traitlets.traitlets import Float\n",
        "def build_model_with_GRU(hp):\n",
        "    model = Sequential()\n",
        "\n",
        "    cnt = 0\n",
        "    for i in range(hp.Int('num_layers', min_value = 1, max_value = 10)):\n",
        "      if cnt == 0:\n",
        "        #model.add(Embedding(input_dim=max_words, output_dim=hp.Int('embedding_dim', min_value=32, max_value=256, step=32), input_length=max_sequence_length))\n",
        "\n",
        "        model.add(Embedding(input_dim=max_words, output_dim = 500, input_length=max_length))\n",
        "\n",
        "      else:\n",
        "          model.add(\n",
        "              GRU(units=hp.Int('gru_units'+str(i), min_value=1, max_value=10, step=1), return_sequences=True, recurrent_dropout = 0.25, dropout=0.25)\n",
        "          ),\n",
        "\n",
        "          GlobalAveragePooling1D(),\n",
        "\n",
        "         # Dense(units=hp.Int('dense_units'+str(i), min_value=1, max_value=10, step=1), activation='relu')\n",
        "\n",
        "          model.add(\n",
        "              Dropout(rate=hp.Float('dropout'+str(i), min_value=0.2, max_value=0.5, step=0.1)\n",
        "          ))\n",
        "\n",
        "      cnt += 1\n",
        "\n",
        "    model.add(Dense(1, activation='sigmoid'))\n",
        "\n",
        "    model.compile(optimizer=hp.Choice('optimizer', values=['rmsprop', 'adam', 'nadam', 'adadelta']),\n",
        "                  loss = 'binary_crossentropy',\n",
        "                  metrics=['accuracy'])\n",
        "    return model\n"
      ],
      "id": "ZwLFgKdhr9yO"
    },
    {
      "cell_type": "code",
      "execution_count": 123,
      "metadata": {
        "id": "kG-7fMrgNel5"
      },
      "outputs": [],
      "source": [
        "import keras_tuner as kt\n",
        "tuner = kt.RandomSearch(\n",
        "    build_model_with_GRU,\n",
        "    objective='val_accuracy',\n",
        "    max_trials = 1,\n",
        "    directory='/content/drive/MyDrive/Sentiment_Analysis/GRU_dir',\n",
        "    project_name = 'GRU'\n",
        ")"
      ],
      "id": "kG-7fMrgNel5"
    },
    {
      "cell_type": "code",
      "execution_count": 124,
      "metadata": {
        "colab": {
          "base_uri": "https://localhost:8080/"
        },
        "id": "g3LGDG67uomT",
        "outputId": "3013ec09-c44c-49d7-e7b1-f67e8c2eda6e"
      },
      "outputs": [
        {
          "output_type": "stream",
          "name": "stdout",
          "text": [
            "(7225, 500) (1500, 500)\n"
          ]
        }
      ],
      "source": [
        "print(train_lstm_pad.shape, test_lstm_pad.shape)\n",
        "y_train = np.asarray(y_train).astype('float32').reshape((-1,1))\n",
        "y_test = np.asarray(y_test).astype('float32').reshape((-1,1))"
      ],
      "id": "g3LGDG67uomT"
    },
    {
      "cell_type": "code",
      "execution_count": 125,
      "metadata": {
        "colab": {
          "base_uri": "https://localhost:8080/"
        },
        "id": "mrcQ0Ta8uopQ",
        "outputId": "55ee16f0-b36d-4164-8560-c8bfca27451b"
      },
      "outputs": [
        {
          "output_type": "stream",
          "name": "stdout",
          "text": [
            "Trial 1 Complete [00h 26m 37s]\n",
            "val_accuracy: 0.8777666091918945\n",
            "\n",
            "Best val_accuracy So Far: 0.8777666091918945\n",
            "Total elapsed time: 00h 26m 37s\n"
          ]
        }
      ],
      "source": [
        " tuner.search(train_lstm_pad, y_train, epochs=5, validation_data=(test_lstm_pad, y_test))"
      ],
      "id": "mrcQ0Ta8uopQ"
    },
    {
      "cell_type": "code",
      "execution_count": 125,
      "metadata": {
        "id": "E5IfL8V2u09i"
      },
      "outputs": [],
      "source": [],
      "id": "E5IfL8V2u09i"
    }
  ],
  "metadata": {
    "accelerator": "GPU",
    "colab": {
      "provenance": [],
      "include_colab_link": true
    },
    "kernelspec": {
      "display_name": "Python 3",
      "name": "python3"
    },
    "language_info": {
      "codemirror_mode": {
        "name": "ipython",
        "version": 3
      },
      "file_extension": ".py",
      "mimetype": "text/x-python",
      "name": "python",
      "nbconvert_exporter": "python",
      "pygments_lexer": "ipython3",
      "version": "3.11.3"
    }
  },
  "nbformat": 4,
  "nbformat_minor": 5
}